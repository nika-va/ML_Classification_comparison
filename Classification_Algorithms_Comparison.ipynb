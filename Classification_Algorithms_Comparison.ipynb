{
  "nbformat": 4,
  "nbformat_minor": 0,
  "metadata": {
    "colab": {
      "provenance": [],
      "authorship_tag": "ABX9TyNcmc2RFM8drXVkDIhvmPl1",
      "include_colab_link": true
    },
    "kernelspec": {
      "name": "python3",
      "display_name": "Python 3"
    },
    "language_info": {
      "name": "python"
    }
  },
  "cells": [
    {
      "cell_type": "markdown",
      "metadata": {
        "id": "view-in-github",
        "colab_type": "text"
      },
      "source": [
        "<a href=\"https://colab.research.google.com/github/nika-va/ML_Classification_comparison/blob/main/Classification_Algorithms_Comparison.ipynb\" target=\"_parent\"><img src=\"https://colab.research.google.com/assets/colab-badge.svg\" alt=\"Open In Colab\"/></a>"
      ]
    },
    {
      "cell_type": "code",
      "source": [
        "# main libraries\n",
        "import time\n",
        "import numpy as np\n",
        "import pandas as pd\n",
        "import matplotlib.pyplot as plt\n",
        "import seaborn as sns"
      ],
      "metadata": {
        "id": "ZIriB2ziFJ6x"
      },
      "execution_count": 7,
      "outputs": []
    },
    {
      "cell_type": "code",
      "source": [
        "# dataset preprocessing\n",
        "from sklearn import preprocessing\n",
        "from sklearn.model_selection import train_test_split\n",
        "# from category_encoders.hashing import HashingEncoder"
      ],
      "metadata": {
        "id": "qq4Rbj8IFKYw"
      },
      "execution_count": 8,
      "outputs": []
    },
    {
      "cell_type": "code",
      "source": [
        "# import algorithms\n",
        "from sklearn.tree import DecisionTreeClassifier, DecisionTreeRegressor\n",
        "from sklearn.ensemble import RandomForestClassifier\n",
        "from sklearn.linear_model import LogisticRegression\n",
        "from sklearn.svm import SVC\n",
        "from sklearn.naive_bayes import GaussianNB\n",
        "from sklearn.neighbors import KNeighborsClassifier\n",
        "\n",
        "from xgboost import XGBRegressor\n",
        "from sklearn.model_selection import cross_val_score"
      ],
      "metadata": {
        "id": "BLDlxJRRFKlH"
      },
      "execution_count": 9,
      "outputs": []
    },
    {
      "cell_type": "code",
      "source": [
        "# metrics\n",
        "from sklearn.metrics import accuracy_score, \\\n",
        "                            precision_score, \\\n",
        "                            recall_score, \\\n",
        "                            f1_score"
      ],
      "metadata": {
        "id": "J_KqNSGjFK0H"
      },
      "execution_count": 10,
      "outputs": []
    },
    {
      "cell_type": "code",
      "source": [
        "# hyperparameter tuning\n",
        "from sklearn.model_selection import GridSearchCV, RandomizedSearchCV\n",
        "\n",
        "import warnings\n",
        "warnings.filterwarnings('ignore')"
      ],
      "metadata": {
        "id": "aYuvQmVxFRIQ"
      },
      "execution_count": 11,
      "outputs": []
    },
    {
      "cell_type": "code",
      "source": [
        "df = pd.read_csv('/content/Titanic Dataset.csv')\n",
        "df.head()"
      ],
      "metadata": {
        "colab": {
          "base_uri": "https://localhost:8080/",
          "height": 293
        },
        "id": "DIghTi5aLL3m",
        "outputId": "2f245bee-b0bf-40f0-9548-71ed92bd2c04"
      },
      "execution_count": 12,
      "outputs": [
        {
          "output_type": "execute_result",
          "data": {
            "text/plain": [
              "   pclass  survived                                             name     sex  \\\n",
              "0       1         1                    Allen, Miss. Elisabeth Walton  female   \n",
              "1       1         1                   Allison, Master. Hudson Trevor    male   \n",
              "2       1         0                     Allison, Miss. Helen Loraine  female   \n",
              "3       1         0             Allison, Mr. Hudson Joshua Creighton    male   \n",
              "4       1         0  Allison, Mrs. Hudson J C (Bessie Waldo Daniels)  female   \n",
              "\n",
              "     age  sibsp  parch  ticket      fare    cabin embarked boat   body  \\\n",
              "0  29.00      0      0   24160  211.3375       B5        S    2    NaN   \n",
              "1   0.92      1      2  113781  151.5500  C22 C26        S   11    NaN   \n",
              "2   2.00      1      2  113781  151.5500  C22 C26        S  NaN    NaN   \n",
              "3  30.00      1      2  113781  151.5500  C22 C26        S  NaN  135.0   \n",
              "4  25.00      1      2  113781  151.5500  C22 C26        S  NaN    NaN   \n",
              "\n",
              "                         home.dest  \n",
              "0                     St Louis, MO  \n",
              "1  Montreal, PQ / Chesterville, ON  \n",
              "2  Montreal, PQ / Chesterville, ON  \n",
              "3  Montreal, PQ / Chesterville, ON  \n",
              "4  Montreal, PQ / Chesterville, ON  "
            ],
            "text/html": [
              "\n",
              "  <div id=\"df-bb53791d-a0c9-44b9-a8f1-0613742fd27a\" class=\"colab-df-container\">\n",
              "    <div>\n",
              "<style scoped>\n",
              "    .dataframe tbody tr th:only-of-type {\n",
              "        vertical-align: middle;\n",
              "    }\n",
              "\n",
              "    .dataframe tbody tr th {\n",
              "        vertical-align: top;\n",
              "    }\n",
              "\n",
              "    .dataframe thead th {\n",
              "        text-align: right;\n",
              "    }\n",
              "</style>\n",
              "<table border=\"1\" class=\"dataframe\">\n",
              "  <thead>\n",
              "    <tr style=\"text-align: right;\">\n",
              "      <th></th>\n",
              "      <th>pclass</th>\n",
              "      <th>survived</th>\n",
              "      <th>name</th>\n",
              "      <th>sex</th>\n",
              "      <th>age</th>\n",
              "      <th>sibsp</th>\n",
              "      <th>parch</th>\n",
              "      <th>ticket</th>\n",
              "      <th>fare</th>\n",
              "      <th>cabin</th>\n",
              "      <th>embarked</th>\n",
              "      <th>boat</th>\n",
              "      <th>body</th>\n",
              "      <th>home.dest</th>\n",
              "    </tr>\n",
              "  </thead>\n",
              "  <tbody>\n",
              "    <tr>\n",
              "      <th>0</th>\n",
              "      <td>1</td>\n",
              "      <td>1</td>\n",
              "      <td>Allen, Miss. Elisabeth Walton</td>\n",
              "      <td>female</td>\n",
              "      <td>29.00</td>\n",
              "      <td>0</td>\n",
              "      <td>0</td>\n",
              "      <td>24160</td>\n",
              "      <td>211.3375</td>\n",
              "      <td>B5</td>\n",
              "      <td>S</td>\n",
              "      <td>2</td>\n",
              "      <td>NaN</td>\n",
              "      <td>St Louis, MO</td>\n",
              "    </tr>\n",
              "    <tr>\n",
              "      <th>1</th>\n",
              "      <td>1</td>\n",
              "      <td>1</td>\n",
              "      <td>Allison, Master. Hudson Trevor</td>\n",
              "      <td>male</td>\n",
              "      <td>0.92</td>\n",
              "      <td>1</td>\n",
              "      <td>2</td>\n",
              "      <td>113781</td>\n",
              "      <td>151.5500</td>\n",
              "      <td>C22 C26</td>\n",
              "      <td>S</td>\n",
              "      <td>11</td>\n",
              "      <td>NaN</td>\n",
              "      <td>Montreal, PQ / Chesterville, ON</td>\n",
              "    </tr>\n",
              "    <tr>\n",
              "      <th>2</th>\n",
              "      <td>1</td>\n",
              "      <td>0</td>\n",
              "      <td>Allison, Miss. Helen Loraine</td>\n",
              "      <td>female</td>\n",
              "      <td>2.00</td>\n",
              "      <td>1</td>\n",
              "      <td>2</td>\n",
              "      <td>113781</td>\n",
              "      <td>151.5500</td>\n",
              "      <td>C22 C26</td>\n",
              "      <td>S</td>\n",
              "      <td>NaN</td>\n",
              "      <td>NaN</td>\n",
              "      <td>Montreal, PQ / Chesterville, ON</td>\n",
              "    </tr>\n",
              "    <tr>\n",
              "      <th>3</th>\n",
              "      <td>1</td>\n",
              "      <td>0</td>\n",
              "      <td>Allison, Mr. Hudson Joshua Creighton</td>\n",
              "      <td>male</td>\n",
              "      <td>30.00</td>\n",
              "      <td>1</td>\n",
              "      <td>2</td>\n",
              "      <td>113781</td>\n",
              "      <td>151.5500</td>\n",
              "      <td>C22 C26</td>\n",
              "      <td>S</td>\n",
              "      <td>NaN</td>\n",
              "      <td>135.0</td>\n",
              "      <td>Montreal, PQ / Chesterville, ON</td>\n",
              "    </tr>\n",
              "    <tr>\n",
              "      <th>4</th>\n",
              "      <td>1</td>\n",
              "      <td>0</td>\n",
              "      <td>Allison, Mrs. Hudson J C (Bessie Waldo Daniels)</td>\n",
              "      <td>female</td>\n",
              "      <td>25.00</td>\n",
              "      <td>1</td>\n",
              "      <td>2</td>\n",
              "      <td>113781</td>\n",
              "      <td>151.5500</td>\n",
              "      <td>C22 C26</td>\n",
              "      <td>S</td>\n",
              "      <td>NaN</td>\n",
              "      <td>NaN</td>\n",
              "      <td>Montreal, PQ / Chesterville, ON</td>\n",
              "    </tr>\n",
              "  </tbody>\n",
              "</table>\n",
              "</div>\n",
              "    <div class=\"colab-df-buttons\">\n",
              "\n",
              "  <div class=\"colab-df-container\">\n",
              "    <button class=\"colab-df-convert\" onclick=\"convertToInteractive('df-bb53791d-a0c9-44b9-a8f1-0613742fd27a')\"\n",
              "            title=\"Convert this dataframe to an interactive table.\"\n",
              "            style=\"display:none;\">\n",
              "\n",
              "  <svg xmlns=\"http://www.w3.org/2000/svg\" height=\"24px\" viewBox=\"0 -960 960 960\">\n",
              "    <path d=\"M120-120v-720h720v720H120Zm60-500h600v-160H180v160Zm220 220h160v-160H400v160Zm0 220h160v-160H400v160ZM180-400h160v-160H180v160Zm440 0h160v-160H620v160ZM180-180h160v-160H180v160Zm440 0h160v-160H620v160Z\"/>\n",
              "  </svg>\n",
              "    </button>\n",
              "\n",
              "  <style>\n",
              "    .colab-df-container {\n",
              "      display:flex;\n",
              "      gap: 12px;\n",
              "    }\n",
              "\n",
              "    .colab-df-convert {\n",
              "      background-color: #E8F0FE;\n",
              "      border: none;\n",
              "      border-radius: 50%;\n",
              "      cursor: pointer;\n",
              "      display: none;\n",
              "      fill: #1967D2;\n",
              "      height: 32px;\n",
              "      padding: 0 0 0 0;\n",
              "      width: 32px;\n",
              "    }\n",
              "\n",
              "    .colab-df-convert:hover {\n",
              "      background-color: #E2EBFA;\n",
              "      box-shadow: 0px 1px 2px rgba(60, 64, 67, 0.3), 0px 1px 3px 1px rgba(60, 64, 67, 0.15);\n",
              "      fill: #174EA6;\n",
              "    }\n",
              "\n",
              "    .colab-df-buttons div {\n",
              "      margin-bottom: 4px;\n",
              "    }\n",
              "\n",
              "    [theme=dark] .colab-df-convert {\n",
              "      background-color: #3B4455;\n",
              "      fill: #D2E3FC;\n",
              "    }\n",
              "\n",
              "    [theme=dark] .colab-df-convert:hover {\n",
              "      background-color: #434B5C;\n",
              "      box-shadow: 0px 1px 3px 1px rgba(0, 0, 0, 0.15);\n",
              "      filter: drop-shadow(0px 1px 2px rgba(0, 0, 0, 0.3));\n",
              "      fill: #FFFFFF;\n",
              "    }\n",
              "  </style>\n",
              "\n",
              "    <script>\n",
              "      const buttonEl =\n",
              "        document.querySelector('#df-bb53791d-a0c9-44b9-a8f1-0613742fd27a button.colab-df-convert');\n",
              "      buttonEl.style.display =\n",
              "        google.colab.kernel.accessAllowed ? 'block' : 'none';\n",
              "\n",
              "      async function convertToInteractive(key) {\n",
              "        const element = document.querySelector('#df-bb53791d-a0c9-44b9-a8f1-0613742fd27a');\n",
              "        const dataTable =\n",
              "          await google.colab.kernel.invokeFunction('convertToInteractive',\n",
              "                                                    [key], {});\n",
              "        if (!dataTable) return;\n",
              "\n",
              "        const docLinkHtml = 'Like what you see? Visit the ' +\n",
              "          '<a target=\"_blank\" href=https://colab.research.google.com/notebooks/data_table.ipynb>data table notebook</a>'\n",
              "          + ' to learn more about interactive tables.';\n",
              "        element.innerHTML = '';\n",
              "        dataTable['output_type'] = 'display_data';\n",
              "        await google.colab.output.renderOutput(dataTable, element);\n",
              "        const docLink = document.createElement('div');\n",
              "        docLink.innerHTML = docLinkHtml;\n",
              "        element.appendChild(docLink);\n",
              "      }\n",
              "    </script>\n",
              "  </div>\n",
              "\n",
              "\n",
              "<div id=\"df-0a9a0d08-5429-40cd-9f78-bc635cec3cfc\">\n",
              "  <button class=\"colab-df-quickchart\" onclick=\"quickchart('df-0a9a0d08-5429-40cd-9f78-bc635cec3cfc')\"\n",
              "            title=\"Suggest charts\"\n",
              "            style=\"display:none;\">\n",
              "\n",
              "<svg xmlns=\"http://www.w3.org/2000/svg\" height=\"24px\"viewBox=\"0 0 24 24\"\n",
              "     width=\"24px\">\n",
              "    <g>\n",
              "        <path d=\"M19 3H5c-1.1 0-2 .9-2 2v14c0 1.1.9 2 2 2h14c1.1 0 2-.9 2-2V5c0-1.1-.9-2-2-2zM9 17H7v-7h2v7zm4 0h-2V7h2v10zm4 0h-2v-4h2v4z\"/>\n",
              "    </g>\n",
              "</svg>\n",
              "  </button>\n",
              "\n",
              "<style>\n",
              "  .colab-df-quickchart {\n",
              "      --bg-color: #E8F0FE;\n",
              "      --fill-color: #1967D2;\n",
              "      --hover-bg-color: #E2EBFA;\n",
              "      --hover-fill-color: #174EA6;\n",
              "      --disabled-fill-color: #AAA;\n",
              "      --disabled-bg-color: #DDD;\n",
              "  }\n",
              "\n",
              "  [theme=dark] .colab-df-quickchart {\n",
              "      --bg-color: #3B4455;\n",
              "      --fill-color: #D2E3FC;\n",
              "      --hover-bg-color: #434B5C;\n",
              "      --hover-fill-color: #FFFFFF;\n",
              "      --disabled-bg-color: #3B4455;\n",
              "      --disabled-fill-color: #666;\n",
              "  }\n",
              "\n",
              "  .colab-df-quickchart {\n",
              "    background-color: var(--bg-color);\n",
              "    border: none;\n",
              "    border-radius: 50%;\n",
              "    cursor: pointer;\n",
              "    display: none;\n",
              "    fill: var(--fill-color);\n",
              "    height: 32px;\n",
              "    padding: 0;\n",
              "    width: 32px;\n",
              "  }\n",
              "\n",
              "  .colab-df-quickchart:hover {\n",
              "    background-color: var(--hover-bg-color);\n",
              "    box-shadow: 0 1px 2px rgba(60, 64, 67, 0.3), 0 1px 3px 1px rgba(60, 64, 67, 0.15);\n",
              "    fill: var(--button-hover-fill-color);\n",
              "  }\n",
              "\n",
              "  .colab-df-quickchart-complete:disabled,\n",
              "  .colab-df-quickchart-complete:disabled:hover {\n",
              "    background-color: var(--disabled-bg-color);\n",
              "    fill: var(--disabled-fill-color);\n",
              "    box-shadow: none;\n",
              "  }\n",
              "\n",
              "  .colab-df-spinner {\n",
              "    border: 2px solid var(--fill-color);\n",
              "    border-color: transparent;\n",
              "    border-bottom-color: var(--fill-color);\n",
              "    animation:\n",
              "      spin 1s steps(1) infinite;\n",
              "  }\n",
              "\n",
              "  @keyframes spin {\n",
              "    0% {\n",
              "      border-color: transparent;\n",
              "      border-bottom-color: var(--fill-color);\n",
              "      border-left-color: var(--fill-color);\n",
              "    }\n",
              "    20% {\n",
              "      border-color: transparent;\n",
              "      border-left-color: var(--fill-color);\n",
              "      border-top-color: var(--fill-color);\n",
              "    }\n",
              "    30% {\n",
              "      border-color: transparent;\n",
              "      border-left-color: var(--fill-color);\n",
              "      border-top-color: var(--fill-color);\n",
              "      border-right-color: var(--fill-color);\n",
              "    }\n",
              "    40% {\n",
              "      border-color: transparent;\n",
              "      border-right-color: var(--fill-color);\n",
              "      border-top-color: var(--fill-color);\n",
              "    }\n",
              "    60% {\n",
              "      border-color: transparent;\n",
              "      border-right-color: var(--fill-color);\n",
              "    }\n",
              "    80% {\n",
              "      border-color: transparent;\n",
              "      border-right-color: var(--fill-color);\n",
              "      border-bottom-color: var(--fill-color);\n",
              "    }\n",
              "    90% {\n",
              "      border-color: transparent;\n",
              "      border-bottom-color: var(--fill-color);\n",
              "    }\n",
              "  }\n",
              "</style>\n",
              "\n",
              "  <script>\n",
              "    async function quickchart(key) {\n",
              "      const quickchartButtonEl =\n",
              "        document.querySelector('#' + key + ' button');\n",
              "      quickchartButtonEl.disabled = true;  // To prevent multiple clicks.\n",
              "      quickchartButtonEl.classList.add('colab-df-spinner');\n",
              "      try {\n",
              "        const charts = await google.colab.kernel.invokeFunction(\n",
              "            'suggestCharts', [key], {});\n",
              "      } catch (error) {\n",
              "        console.error('Error during call to suggestCharts:', error);\n",
              "      }\n",
              "      quickchartButtonEl.classList.remove('colab-df-spinner');\n",
              "      quickchartButtonEl.classList.add('colab-df-quickchart-complete');\n",
              "    }\n",
              "    (() => {\n",
              "      let quickchartButtonEl =\n",
              "        document.querySelector('#df-0a9a0d08-5429-40cd-9f78-bc635cec3cfc button');\n",
              "      quickchartButtonEl.style.display =\n",
              "        google.colab.kernel.accessAllowed ? 'block' : 'none';\n",
              "    })();\n",
              "  </script>\n",
              "</div>\n",
              "\n",
              "    </div>\n",
              "  </div>\n"
            ],
            "application/vnd.google.colaboratory.intrinsic+json": {
              "type": "dataframe",
              "variable_name": "df",
              "summary": "{\n  \"name\": \"df\",\n  \"rows\": 1309,\n  \"fields\": [\n    {\n      \"column\": \"pclass\",\n      \"properties\": {\n        \"dtype\": \"number\",\n        \"std\": 0,\n        \"min\": 1,\n        \"max\": 3,\n        \"num_unique_values\": 3,\n        \"samples\": [\n          1,\n          2,\n          3\n        ],\n        \"semantic_type\": \"\",\n        \"description\": \"\"\n      }\n    },\n    {\n      \"column\": \"survived\",\n      \"properties\": {\n        \"dtype\": \"number\",\n        \"std\": 0,\n        \"min\": 0,\n        \"max\": 1,\n        \"num_unique_values\": 2,\n        \"samples\": [\n          0,\n          1\n        ],\n        \"semantic_type\": \"\",\n        \"description\": \"\"\n      }\n    },\n    {\n      \"column\": \"name\",\n      \"properties\": {\n        \"dtype\": \"string\",\n        \"num_unique_values\": 1307,\n        \"samples\": [\n          \"Saade, Mr. Jean Nassr\",\n          \"Nakid, Mr. Sahid\"\n        ],\n        \"semantic_type\": \"\",\n        \"description\": \"\"\n      }\n    },\n    {\n      \"column\": \"sex\",\n      \"properties\": {\n        \"dtype\": \"category\",\n        \"num_unique_values\": 2,\n        \"samples\": [\n          \"male\",\n          \"female\"\n        ],\n        \"semantic_type\": \"\",\n        \"description\": \"\"\n      }\n    },\n    {\n      \"column\": \"age\",\n      \"properties\": {\n        \"dtype\": \"number\",\n        \"std\": 14.413493211271321,\n        \"min\": 0.17,\n        \"max\": 80.0,\n        \"num_unique_values\": 98,\n        \"samples\": [\n          57.0,\n          55.0\n        ],\n        \"semantic_type\": \"\",\n        \"description\": \"\"\n      }\n    },\n    {\n      \"column\": \"sibsp\",\n      \"properties\": {\n        \"dtype\": \"number\",\n        \"std\": 1,\n        \"min\": 0,\n        \"max\": 8,\n        \"num_unique_values\": 7,\n        \"samples\": [\n          0,\n          1\n        ],\n        \"semantic_type\": \"\",\n        \"description\": \"\"\n      }\n    },\n    {\n      \"column\": \"parch\",\n      \"properties\": {\n        \"dtype\": \"number\",\n        \"std\": 0,\n        \"min\": 0,\n        \"max\": 9,\n        \"num_unique_values\": 8,\n        \"samples\": [\n          2,\n          5\n        ],\n        \"semantic_type\": \"\",\n        \"description\": \"\"\n      }\n    },\n    {\n      \"column\": \"ticket\",\n      \"properties\": {\n        \"dtype\": \"string\",\n        \"num_unique_values\": 929,\n        \"samples\": [\n          \"371060\",\n          \"330971\"\n        ],\n        \"semantic_type\": \"\",\n        \"description\": \"\"\n      }\n    },\n    {\n      \"column\": \"fare\",\n      \"properties\": {\n        \"dtype\": \"number\",\n        \"std\": 51.75866823917411,\n        \"min\": 0.0,\n        \"max\": 512.3292,\n        \"num_unique_values\": 281,\n        \"samples\": [\n          5.0,\n          9.35\n        ],\n        \"semantic_type\": \"\",\n        \"description\": \"\"\n      }\n    },\n    {\n      \"column\": \"cabin\",\n      \"properties\": {\n        \"dtype\": \"category\",\n        \"num_unique_values\": 186,\n        \"samples\": [\n          \"C90\",\n          \"C80\"\n        ],\n        \"semantic_type\": \"\",\n        \"description\": \"\"\n      }\n    },\n    {\n      \"column\": \"embarked\",\n      \"properties\": {\n        \"dtype\": \"category\",\n        \"num_unique_values\": 3,\n        \"samples\": [\n          \"S\",\n          \"C\"\n        ],\n        \"semantic_type\": \"\",\n        \"description\": \"\"\n      }\n    },\n    {\n      \"column\": \"boat\",\n      \"properties\": {\n        \"dtype\": \"category\",\n        \"num_unique_values\": 27,\n        \"samples\": [\n          \"B\",\n          \"C\"\n        ],\n        \"semantic_type\": \"\",\n        \"description\": \"\"\n      }\n    },\n    {\n      \"column\": \"body\",\n      \"properties\": {\n        \"dtype\": \"number\",\n        \"std\": 97.6969219960031,\n        \"min\": 1.0,\n        \"max\": 328.0,\n        \"num_unique_values\": 121,\n        \"samples\": [\n          297.0,\n          19.0\n        ],\n        \"semantic_type\": \"\",\n        \"description\": \"\"\n      }\n    },\n    {\n      \"column\": \"home.dest\",\n      \"properties\": {\n        \"dtype\": \"category\",\n        \"num_unique_values\": 369,\n        \"samples\": [\n          \"Co Limerick, Ireland Sherbrooke, PQ\",\n          \"Amenia, ND\"\n        ],\n        \"semantic_type\": \"\",\n        \"description\": \"\"\n      }\n    }\n  ]\n}"
            }
          },
          "metadata": {},
          "execution_count": 12
        }
      ]
    },
    {
      "cell_type": "code",
      "source": [
        "df.drop(columns=['name', 'ticket', 'cabin', 'boat', 'body', 'home.dest'], inplace=True)"
      ],
      "metadata": {
        "id": "FRme1dgtLX5P"
      },
      "execution_count": 13,
      "outputs": []
    },
    {
      "cell_type": "code",
      "source": [
        "df = pd.get_dummies(df)"
      ],
      "metadata": {
        "id": "dYffgGS-Lszz"
      },
      "execution_count": 14,
      "outputs": []
    },
    {
      "cell_type": "code",
      "source": [
        "df.info()"
      ],
      "metadata": {
        "colab": {
          "base_uri": "https://localhost:8080/"
        },
        "id": "wjEvNPntLtuK",
        "outputId": "18d1dda2-f27d-4300-bd35-365239d5ce3e"
      },
      "execution_count": 15,
      "outputs": [
        {
          "output_type": "stream",
          "name": "stdout",
          "text": [
            "<class 'pandas.core.frame.DataFrame'>\n",
            "RangeIndex: 1309 entries, 0 to 1308\n",
            "Data columns (total 11 columns):\n",
            " #   Column      Non-Null Count  Dtype  \n",
            "---  ------      --------------  -----  \n",
            " 0   pclass      1309 non-null   int64  \n",
            " 1   survived    1309 non-null   int64  \n",
            " 2   age         1046 non-null   float64\n",
            " 3   sibsp       1309 non-null   int64  \n",
            " 4   parch       1309 non-null   int64  \n",
            " 5   fare        1308 non-null   float64\n",
            " 6   sex_female  1309 non-null   bool   \n",
            " 7   sex_male    1309 non-null   bool   \n",
            " 8   embarked_C  1309 non-null   bool   \n",
            " 9   embarked_Q  1309 non-null   bool   \n",
            " 10  embarked_S  1309 non-null   bool   \n",
            "dtypes: bool(5), float64(2), int64(4)\n",
            "memory usage: 67.9 KB\n"
          ]
        }
      ]
    },
    {
      "cell_type": "code",
      "source": [
        "plt.hist(df['age'])"
      ],
      "metadata": {
        "colab": {
          "base_uri": "https://localhost:8080/",
          "height": 499
        },
        "id": "qr4tAF5oMAHA",
        "outputId": "8422ff24-23d5-4331-bb36-fb1d4feb1c74"
      },
      "execution_count": 16,
      "outputs": [
        {
          "output_type": "execute_result",
          "data": {
            "text/plain": [
              "(array([ 72.,  62., 274., 250., 161., 108.,  65.,  41.,  10.,   3.]),\n",
              " array([ 0.17 ,  8.153, 16.136, 24.119, 32.102, 40.085, 48.068, 56.051,\n",
              "        64.034, 72.017, 80.   ]),\n",
              " <BarContainer object of 10 artists>)"
            ]
          },
          "metadata": {},
          "execution_count": 16
        },
        {
          "output_type": "display_data",
          "data": {
            "text/plain": [
              "<Figure size 640x480 with 1 Axes>"
            ],
            "image/png": "[encoded data removed]"
          },
          "metadata": {}
        }
      ]
    },
    {
      "cell_type": "code",
      "source": [
        "df['age'].fillna(round(df['age'].mean(), 2), inplace=True)"
      ],
      "metadata": {
        "id": "AZwiyLXDMKhT"
      },
      "execution_count": 17,
      "outputs": []
    },
    {
      "cell_type": "code",
      "source": [
        "df.dropna(subset= ['fare'], inplace=True)"
      ],
      "metadata": {
        "id": "CUOOFUerMV1U"
      },
      "execution_count": 18,
      "outputs": []
    },
    {
      "cell_type": "code",
      "source": [
        "df.head()"
      ],
      "metadata": {
        "colab": {
          "base_uri": "https://localhost:8080/",
          "height": 206
        },
        "id": "5T9t-TxUQbqS",
        "outputId": "560206a3-52bb-4476-b4a1-cd6973b62bab"
      },
      "execution_count": 19,
      "outputs": [
        {
          "output_type": "execute_result",
          "data": {
            "text/plain": [
              "   pclass  survived    age  sibsp  parch      fare  sex_female  sex_male  \\\n",
              "0       1         1  29.00      0      0  211.3375        True     False   \n",
              "1       1         1   0.92      1      2  151.5500       False      True   \n",
              "2       1         0   2.00      1      2  151.5500        True     False   \n",
              "3       1         0  30.00      1      2  151.5500       False      True   \n",
              "4       1         0  25.00      1      2  151.5500        True     False   \n",
              "\n",
              "   embarked_C  embarked_Q  embarked_S  \n",
              "0       False       False        True  \n",
              "1       False       False        True  \n",
              "2       False       False        True  \n",
              "3       False       False        True  \n",
              "4       False       False        True  "
            ],
            "text/html": [
              "\n",
              "  <div id=\"df-66d5e35f-87ee-4030-8264-1c549ac2170b\" class=\"colab-df-container\">\n",
              "    <div>\n",
              "<style scoped>\n",
              "    .dataframe tbody tr th:only-of-type {\n",
              "        vertical-align: middle;\n",
              "    }\n",
              "\n",
              "    .dataframe tbody tr th {\n",
              "        vertical-align: top;\n",
              "    }\n",
              "\n",
              "    .dataframe thead th {\n",
              "        text-align: right;\n",
              "    }\n",
              "</style>\n",
              "<table border=\"1\" class=\"dataframe\">\n",
              "  <thead>\n",
              "    <tr style=\"text-align: right;\">\n",
              "      <th></th>\n",
              "      <th>pclass</th>\n",
              "      <th>survived</th>\n",
              "      <th>age</th>\n",
              "      <th>sibsp</th>\n",
              "      <th>parch</th>\n",
              "      <th>fare</th>\n",
              "      <th>sex_female</th>\n",
              "      <th>sex_male</th>\n",
              "      <th>embarked_C</th>\n",
              "      <th>embarked_Q</th>\n",
              "      <th>embarked_S</th>\n",
              "    </tr>\n",
              "  </thead>\n",
              "  <tbody>\n",
              "    <tr>\n",
              "      <th>0</th>\n",
              "      <td>1</td>\n",
              "      <td>1</td>\n",
              "      <td>29.00</td>\n",
              "      <td>0</td>\n",
              "      <td>0</td>\n",
              "      <td>211.3375</td>\n",
              "      <td>True</td>\n",
              "      <td>False</td>\n",
              "      <td>False</td>\n",
              "      <td>False</td>\n",
              "      <td>True</td>\n",
              "    </tr>\n",
              "    <tr>\n",
              "      <th>1</th>\n",
              "      <td>1</td>\n",
              "      <td>1</td>\n",
              "      <td>0.92</td>\n",
              "      <td>1</td>\n",
              "      <td>2</td>\n",
              "      <td>151.5500</td>\n",
              "      <td>False</td>\n",
              "      <td>True</td>\n",
              "      <td>False</td>\n",
              "      <td>False</td>\n",
              "      <td>True</td>\n",
              "    </tr>\n",
              "    <tr>\n",
              "      <th>2</th>\n",
              "      <td>1</td>\n",
              "      <td>0</td>\n",
              "      <td>2.00</td>\n",
              "      <td>1</td>\n",
              "      <td>2</td>\n",
              "      <td>151.5500</td>\n",
              "      <td>True</td>\n",
              "      <td>False</td>\n",
              "      <td>False</td>\n",
              "      <td>False</td>\n",
              "      <td>True</td>\n",
              "    </tr>\n",
              "    <tr>\n",
              "      <th>3</th>\n",
              "      <td>1</td>\n",
              "      <td>0</td>\n",
              "      <td>30.00</td>\n",
              "      <td>1</td>\n",
              "      <td>2</td>\n",
              "      <td>151.5500</td>\n",
              "      <td>False</td>\n",
              "      <td>True</td>\n",
              "      <td>False</td>\n",
              "      <td>False</td>\n",
              "      <td>True</td>\n",
              "    </tr>\n",
              "    <tr>\n",
              "      <th>4</th>\n",
              "      <td>1</td>\n",
              "      <td>0</td>\n",
              "      <td>25.00</td>\n",
              "      <td>1</td>\n",
              "      <td>2</td>\n",
              "      <td>151.5500</td>\n",
              "      <td>True</td>\n",
              "      <td>False</td>\n",
              "      <td>False</td>\n",
              "      <td>False</td>\n",
              "      <td>True</td>\n",
              "    </tr>\n",
              "  </tbody>\n",
              "</table>\n",
              "</div>\n",
              "    <div class=\"colab-df-buttons\">\n",
              "\n",
              "  <div class=\"colab-df-container\">\n",
              "    <button class=\"colab-df-convert\" onclick=\"convertToInteractive('df-66d5e35f-87ee-4030-8264-1c549ac2170b')\"\n",
              "            title=\"Convert this dataframe to an interactive table.\"\n",
              "            style=\"display:none;\">\n",
              "\n",
              "  <svg xmlns=\"http://www.w3.org/2000/svg\" height=\"24px\" viewBox=\"0 -960 960 960\">\n",
              "    <path d=\"M120-120v-720h720v720H120Zm60-500h600v-160H180v160Zm220 220h160v-160H400v160Zm0 220h160v-160H400v160ZM180-400h160v-160H180v160Zm440 0h160v-160H620v160ZM180-180h160v-160H180v160Zm440 0h160v-160H620v160Z\"/>\n",
              "  </svg>\n",
              "    </button>\n",
              "\n",
              "  <style>\n",
              "    .colab-df-container {\n",
              "      display:flex;\n",
              "      gap: 12px;\n",
              "    }\n",
              "\n",
              "    .colab-df-convert {\n",
              "      background-color: #E8F0FE;\n",
              "      border: none;\n",
              "      border-radius: 50%;\n",
              "      cursor: pointer;\n",
              "      display: none;\n",
              "      fill: #1967D2;\n",
              "      height: 32px;\n",
              "      padding: 0 0 0 0;\n",
              "      width: 32px;\n",
              "    }\n",
              "\n",
              "    .colab-df-convert:hover {\n",
              "      background-color: #E2EBFA;\n",
              "      box-shadow: 0px 1px 2px rgba(60, 64, 67, 0.3), 0px 1px 3px 1px rgba(60, 64, 67, 0.15);\n",
              "      fill: #174EA6;\n",
              "    }\n",
              "\n",
              "    .colab-df-buttons div {\n",
              "      margin-bottom: 4px;\n",
              "    }\n",
              "\n",
              "    [theme=dark] .colab-df-convert {\n",
              "      background-color: #3B4455;\n",
              "      fill: #D2E3FC;\n",
              "    }\n",
              "\n",
              "    [theme=dark] .colab-df-convert:hover {\n",
              "      background-color: #434B5C;\n",
              "      box-shadow: 0px 1px 3px 1px rgba(0, 0, 0, 0.15);\n",
              "      filter: drop-shadow(0px 1px 2px rgba(0, 0, 0, 0.3));\n",
              "      fill: #FFFFFF;\n",
              "    }\n",
              "  </style>\n",
              "\n",
              "    <script>\n",
              "      const buttonEl =\n",
              "        document.querySelector('#df-66d5e35f-87ee-4030-8264-1c549ac2170b button.colab-df-convert');\n",
              "      buttonEl.style.display =\n",
              "        google.colab.kernel.accessAllowed ? 'block' : 'none';\n",
              "\n",
              "      async function convertToInteractive(key) {\n",
              "        const element = document.querySelector('#df-66d5e35f-87ee-4030-8264-1c549ac2170b');\n",
              "        const dataTable =\n",
              "          await google.colab.kernel.invokeFunction('convertToInteractive',\n",
              "                                                    [key], {});\n",
              "        if (!dataTable) return;\n",
              "\n",
              "        const docLinkHtml = 'Like what you see? Visit the ' +\n",
              "          '<a target=\"_blank\" href=https://colab.research.google.com/notebooks/data_table.ipynb>data table notebook</a>'\n",
              "          + ' to learn more about interactive tables.';\n",
              "        element.innerHTML = '';\n",
              "        dataTable['output_type'] = 'display_data';\n",
              "        await google.colab.output.renderOutput(dataTable, element);\n",
              "        const docLink = document.createElement('div');\n",
              "        docLink.innerHTML = docLinkHtml;\n",
              "        element.appendChild(docLink);\n",
              "      }\n",
              "    </script>\n",
              "  </div>\n",
              "\n",
              "\n",
              "<div id=\"df-b9cb7b01-9d10-4c44-8748-b9beead5ff2b\">\n",
              "  <button class=\"colab-df-quickchart\" onclick=\"quickchart('df-b9cb7b01-9d10-4c44-8748-b9beead5ff2b')\"\n",
              "            title=\"Suggest charts\"\n",
              "            style=\"display:none;\">\n",
              "\n",
              "<svg xmlns=\"http://www.w3.org/2000/svg\" height=\"24px\"viewBox=\"0 0 24 24\"\n",
              "     width=\"24px\">\n",
              "    <g>\n",
              "        <path d=\"M19 3H5c-1.1 0-2 .9-2 2v14c0 1.1.9 2 2 2h14c1.1 0 2-.9 2-2V5c0-1.1-.9-2-2-2zM9 17H7v-7h2v7zm4 0h-2V7h2v10zm4 0h-2v-4h2v4z\"/>\n",
              "    </g>\n",
              "</svg>\n",
              "  </button>\n",
              "\n",
              "<style>\n",
              "  .colab-df-quickchart {\n",
              "      --bg-color: #E8F0FE;\n",
              "      --fill-color: #1967D2;\n",
              "      --hover-bg-color: #E2EBFA;\n",
              "      --hover-fill-color: #174EA6;\n",
              "      --disabled-fill-color: #AAA;\n",
              "      --disabled-bg-color: #DDD;\n",
              "  }\n",
              "\n",
              "  [theme=dark] .colab-df-quickchart {\n",
              "      --bg-color: #3B4455;\n",
              "      --fill-color: #D2E3FC;\n",
              "      --hover-bg-color: #434B5C;\n",
              "      --hover-fill-color: #FFFFFF;\n",
              "      --disabled-bg-color: #3B4455;\n",
              "      --disabled-fill-color: #666;\n",
              "  }\n",
              "\n",
              "  .colab-df-quickchart {\n",
              "    background-color: var(--bg-color);\n",
              "    border: none;\n",
              "    border-radius: 50%;\n",
              "    cursor: pointer;\n",
              "    display: none;\n",
              "    fill: var(--fill-color);\n",
              "    height: 32px;\n",
              "    padding: 0;\n",
              "    width: 32px;\n",
              "  }\n",
              "\n",
              "  .colab-df-quickchart:hover {\n",
              "    background-color: var(--hover-bg-color);\n",
              "    box-shadow: 0 1px 2px rgba(60, 64, 67, 0.3), 0 1px 3px 1px rgba(60, 64, 67, 0.15);\n",
              "    fill: var(--button-hover-fill-color);\n",
              "  }\n",
              "\n",
              "  .colab-df-quickchart-complete:disabled,\n",
              "  .colab-df-quickchart-complete:disabled:hover {\n",
              "    background-color: var(--disabled-bg-color);\n",
              "    fill: var(--disabled-fill-color);\n",
              "    box-shadow: none;\n",
              "  }\n",
              "\n",
              "  .colab-df-spinner {\n",
              "    border: 2px solid var(--fill-color);\n",
              "    border-color: transparent;\n",
              "    border-bottom-color: var(--fill-color);\n",
              "    animation:\n",
              "      spin 1s steps(1) infinite;\n",
              "  }\n",
              "\n",
              "  @keyframes spin {\n",
              "    0% {\n",
              "      border-color: transparent;\n",
              "      border-bottom-color: var(--fill-color);\n",
              "      border-left-color: var(--fill-color);\n",
              "    }\n",
              "    20% {\n",
              "      border-color: transparent;\n",
              "      border-left-color: var(--fill-color);\n",
              "      border-top-color: var(--fill-color);\n",
              "    }\n",
              "    30% {\n",
              "      border-color: transparent;\n",
              "      border-left-color: var(--fill-color);\n",
              "      border-top-color: var(--fill-color);\n",
              "      border-right-color: var(--fill-color);\n",
              "    }\n",
              "    40% {\n",
              "      border-color: transparent;\n",
              "      border-right-color: var(--fill-color);\n",
              "      border-top-color: var(--fill-color);\n",
              "    }\n",
              "    60% {\n",
              "      border-color: transparent;\n",
              "      border-right-color: var(--fill-color);\n",
              "    }\n",
              "    80% {\n",
              "      border-color: transparent;\n",
              "      border-right-color: var(--fill-color);\n",
              "      border-bottom-color: var(--fill-color);\n",
              "    }\n",
              "    90% {\n",
              "      border-color: transparent;\n",
              "      border-bottom-color: var(--fill-color);\n",
              "    }\n",
              "  }\n",
              "</style>\n",
              "\n",
              "  <script>\n",
              "    async function quickchart(key) {\n",
              "      const quickchartButtonEl =\n",
              "        document.querySelector('#' + key + ' button');\n",
              "      quickchartButtonEl.disabled = true;  // To prevent multiple clicks.\n",
              "      quickchartButtonEl.classList.add('colab-df-spinner');\n",
              "      try {\n",
              "        const charts = await google.colab.kernel.invokeFunction(\n",
              "            'suggestCharts', [key], {});\n",
              "      } catch (error) {\n",
              "        console.error('Error during call to suggestCharts:', error);\n",
              "      }\n",
              "      quickchartButtonEl.classList.remove('colab-df-spinner');\n",
              "      quickchartButtonEl.classList.add('colab-df-quickchart-complete');\n",
              "    }\n",
              "    (() => {\n",
              "      let quickchartButtonEl =\n",
              "        document.querySelector('#df-b9cb7b01-9d10-4c44-8748-b9beead5ff2b button');\n",
              "      quickchartButtonEl.style.display =\n",
              "        google.colab.kernel.accessAllowed ? 'block' : 'none';\n",
              "    })();\n",
              "  </script>\n",
              "</div>\n",
              "\n",
              "    </div>\n",
              "  </div>\n"
            ],
            "application/vnd.google.colaboratory.intrinsic+json": {
              "type": "dataframe",
              "variable_name": "df",
              "summary": "{\n  \"name\": \"df\",\n  \"rows\": 1308,\n  \"fields\": [\n    {\n      \"column\": \"pclass\",\n      \"properties\": {\n        \"dtype\": \"number\",\n        \"std\": 0,\n        \"min\": 1,\n        \"max\": 3,\n        \"num_unique_values\": 3,\n        \"samples\": [\n          1,\n          2,\n          3\n        ],\n        \"semantic_type\": \"\",\n        \"description\": \"\"\n      }\n    },\n    {\n      \"column\": \"survived\",\n      \"properties\": {\n        \"dtype\": \"number\",\n        \"std\": 0,\n        \"min\": 0,\n        \"max\": 1,\n        \"num_unique_values\": 2,\n        \"samples\": [\n          0,\n          1\n        ],\n        \"semantic_type\": \"\",\n        \"description\": \"\"\n      }\n    },\n    {\n      \"column\": \"age\",\n      \"properties\": {\n        \"dtype\": \"number\",\n        \"std\": 12.860240940013336,\n        \"min\": 0.17,\n        \"max\": 80.0,\n        \"num_unique_values\": 98,\n        \"samples\": [\n          6.0,\n          64.0\n        ],\n        \"semantic_type\": \"\",\n        \"description\": \"\"\n      }\n    },\n    {\n      \"column\": \"sibsp\",\n      \"properties\": {\n        \"dtype\": \"number\",\n        \"std\": 1,\n        \"min\": 0,\n        \"max\": 8,\n        \"num_unique_values\": 7,\n        \"samples\": [\n          0,\n          1\n        ],\n        \"semantic_type\": \"\",\n        \"description\": \"\"\n      }\n    },\n    {\n      \"column\": \"parch\",\n      \"properties\": {\n        \"dtype\": \"number\",\n        \"std\": 0,\n        \"min\": 0,\n        \"max\": 9,\n        \"num_unique_values\": 8,\n        \"samples\": [\n          2,\n          5\n        ],\n        \"semantic_type\": \"\",\n        \"description\": \"\"\n      }\n    },\n    {\n      \"column\": \"fare\",\n      \"properties\": {\n        \"dtype\": \"number\",\n        \"std\": 51.75866823917411,\n        \"min\": 0.0,\n        \"max\": 512.3292,\n        \"num_unique_values\": 281,\n        \"samples\": [\n          5.0,\n          9.35\n        ],\n        \"semantic_type\": \"\",\n        \"description\": \"\"\n      }\n    },\n    {\n      \"column\": \"sex_female\",\n      \"properties\": {\n        \"dtype\": \"boolean\",\n        \"num_unique_values\": 2,\n        \"samples\": [\n          false,\n          true\n        ],\n        \"semantic_type\": \"\",\n        \"description\": \"\"\n      }\n    },\n    {\n      \"column\": \"sex_male\",\n      \"properties\": {\n        \"dtype\": \"boolean\",\n        \"num_unique_values\": 2,\n        \"samples\": [\n          true,\n          false\n        ],\n        \"semantic_type\": \"\",\n        \"description\": \"\"\n      }\n    },\n    {\n      \"column\": \"embarked_C\",\n      \"properties\": {\n        \"dtype\": \"boolean\",\n        \"num_unique_values\": 2,\n        \"samples\": [\n          true,\n          false\n        ],\n        \"semantic_type\": \"\",\n        \"description\": \"\"\n      }\n    },\n    {\n      \"column\": \"embarked_Q\",\n      \"properties\": {\n        \"dtype\": \"boolean\",\n        \"num_unique_values\": 2,\n        \"samples\": [\n          true,\n          false\n        ],\n        \"semantic_type\": \"\",\n        \"description\": \"\"\n      }\n    },\n    {\n      \"column\": \"embarked_S\",\n      \"properties\": {\n        \"dtype\": \"boolean\",\n        \"num_unique_values\": 2,\n        \"samples\": [\n          false,\n          true\n        ],\n        \"semantic_type\": \"\",\n        \"description\": \"\"\n      }\n    }\n  ]\n}"
            }
          },
          "metadata": {},
          "execution_count": 19
        }
      ]
    },
    {
      "cell_type": "code",
      "source": [
        "X = df.drop(['survived'], axis=1)\n",
        "y = df['survived']"
      ],
      "metadata": {
        "id": "xREvoMCtNjBq"
      },
      "execution_count": 20,
      "outputs": []
    },
    {
      "cell_type": "code",
      "source": [
        "scaler = preprocessing.StandardScaler()\n",
        "X_scaled = pd.DataFrame(scaler.fit_transform(X))"
      ],
      "metadata": {
        "id": "LfLkbltgQeBj"
      },
      "execution_count": 21,
      "outputs": []
    },
    {
      "cell_type": "code",
      "source": [
        "X_train, X_test, y_train, y_test = train_test_split(X, y, test_size=0.2, shuffle=True)"
      ],
      "metadata": {
        "id": "U10QGzAcNtq6"
      },
      "execution_count": 22,
      "outputs": []
    },
    {
      "cell_type": "code",
      "source": [
        "X_tr_scaled, X_te_scaled, y_tr, y_te = train_test_split(X_scaled, y, test_size=0.2, shuffle=True)"
      ],
      "metadata": {
        "id": "rGu8DgXgRweD"
      },
      "execution_count": 23,
      "outputs": []
    },
    {
      "cell_type": "markdown",
      "source": [
        "## Feature Importance"
      ],
      "metadata": {
        "id": "f9phJcz7ODjC"
      }
    },
    {
      "cell_type": "code",
      "source": [
        "# decision tree feature importances\n",
        "model = DecisionTreeRegressor()\n",
        "model.fit(X, y)\n",
        "importance = model.feature_importances_"
      ],
      "metadata": {
        "id": "ZdoyQSIUN7l2"
      },
      "execution_count": 24,
      "outputs": []
    },
    {
      "cell_type": "code",
      "source": [
        "for i,v in enumerate(importance):\n",
        " print('Feature: %0d, Score: %.5f' % (i,v))\n",
        "# plot feature importance\n",
        "plt.bar([x for x in range(len(importance))], importance)\n",
        "plt.show()"
      ],
      "metadata": {
        "colab": {
          "base_uri": "https://localhost:8080/",
          "height": 604
        },
        "id": "pX_Vp-ZjONYY",
        "outputId": "d0158fea-5d92-44eb-d9ef-2781174a45fc"
      },
      "execution_count": 25,
      "outputs": [
        {
          "output_type": "stream",
          "name": "stdout",
          "text": [
            "Feature: 0, Score: 0.10030\n",
            "Feature: 1, Score: 0.22721\n",
            "Feature: 2, Score: 0.05847\n",
            "Feature: 3, Score: 0.01729\n",
            "Feature: 4, Score: 0.26463\n",
            "Feature: 5, Score: 0.30448\n",
            "Feature: 6, Score: 0.00000\n",
            "Feature: 7, Score: 0.00810\n",
            "Feature: 8, Score: 0.00420\n",
            "Feature: 9, Score: 0.01532\n"
          ]
        },
        {
          "output_type": "display_data",
          "data": {
            "text/plain": [
              "<Figure size 640x480 with 1 Axes>"
            ],
            "image/png": "[encoded data removed]"
          },
          "metadata": {}
        }
      ]
    },
    {
      "cell_type": "code",
      "source": [
        "from xgboost import XGBRegressor\n",
        "\n",
        "# xgboost feature importances\n",
        "model = XGBRegressor()\n",
        "model.fit(X, y)\n",
        "importance = model.feature_importances_\n",
        "\n",
        "for i,v in enumerate(importance):\n",
        " print('Feature: %0d, Score: %.5f' % (i,v))\n",
        "# plot feature importance\n",
        "plt.bar([x for x in range(len(importance))], importance)\n",
        "plt.show()"
      ],
      "metadata": {
        "colab": {
          "base_uri": "https://localhost:8080/",
          "height": 604
        },
        "id": "fUgAD8mJOYXS",
        "outputId": "918c6ee8-9de0-4eda-8857-ba3616f7bcf8"
      },
      "execution_count": 26,
      "outputs": [
        {
          "output_type": "stream",
          "name": "stdout",
          "text": [
            "Feature: 0, Score: 0.19767\n",
            "Feature: 1, Score: 0.04457\n",
            "Feature: 2, Score: 0.07392\n",
            "Feature: 3, Score: 0.03487\n",
            "Feature: 4, Score: 0.05851\n",
            "Feature: 5, Score: 0.40906\n",
            "Feature: 6, Score: 0.00000\n",
            "Feature: 7, Score: 0.03767\n",
            "Feature: 8, Score: 0.04376\n",
            "Feature: 9, Score: 0.09996\n"
          ]
        },
        {
          "output_type": "display_data",
          "data": {
            "text/plain": [
              "<Figure size 640x480 with 1 Axes>"
            ],
            "image/png": "[encoded data removed]"
          },
          "metadata": {}
        }
      ]
    },
    {
      "cell_type": "code",
      "source": [
        "y_train"
      ],
      "metadata": {
        "colab": {
          "base_uri": "https://localhost:8080/"
        },
        "id": "zzTEaWe9Sf0E",
        "outputId": "0f70fd98-5d7e-4e1d-b872-4942c33cde0a"
      },
      "execution_count": 27,
      "outputs": [
        {
          "output_type": "execute_result",
          "data": {
            "text/plain": [
              "722     0\n",
              "360     1\n",
              "1222    0\n",
              "252     0\n",
              "1209    0\n",
              "       ..\n",
              "862     1\n",
              "281     1\n",
              "607     1\n",
              "992     0\n",
              "143     1\n",
              "Name: survived, Length: 1046, dtype: int64"
            ]
          },
          "metadata": {},
          "execution_count": 27
        }
      ]
    },
    {
      "cell_type": "code",
      "source": [
        "X_train.drop(['sex_male'], axis=1, inplace=True)\n",
        "X_tr_scaled.drop([6], axis=1, inplace=True)"
      ],
      "metadata": {
        "id": "FKbNIufZOzEs"
      },
      "execution_count": 28,
      "outputs": []
    },
    {
      "cell_type": "code",
      "source": [
        "X_test.drop(['sex_male'], axis=1, inplace=True)\n",
        "X_te_scaled.drop([6], axis=1, inplace=True)"
      ],
      "metadata": {
        "id": "XqTE_1rXSrmj"
      },
      "execution_count": 29,
      "outputs": []
    },
    {
      "cell_type": "markdown",
      "source": [
        "## Algorithms Comparison with cross validation"
      ],
      "metadata": {
        "id": "fqgvR19IPEhr"
      }
    },
    {
      "cell_type": "code",
      "source": [
        "# Logistic Regression\n",
        "# Naive Bayes\n",
        "# KNN\n",
        "# SVC\n",
        "# Decision Tree Classifier\n",
        "# Random Forest Classifier"
      ],
      "metadata": {
        "id": "l9cpvt2RO_os"
      },
      "execution_count": 30,
      "outputs": []
    },
    {
      "cell_type": "code",
      "source": [
        "acc_score = {}\n",
        "prec_score = {}\n",
        "rec_score = {}\n",
        "f1 = {}"
      ],
      "metadata": {
        "id": "Y7bp0DP3PX5q"
      },
      "execution_count": 31,
      "outputs": []
    },
    {
      "cell_type": "code",
      "source": [
        "acc_score_scaled = {}\n",
        "prec_score_scaled = {}\n",
        "rec_score_scaled = {}\n",
        "f1_scaled = {}"
      ],
      "metadata": {
        "id": "v-AoGQacaI_O"
      },
      "execution_count": 32,
      "outputs": []
    },
    {
      "cell_type": "code",
      "source": [
        "def show_scores():\n",
        "  print(f'''accuracy score: {acc_score},\n",
        "precision score: {prec_score},\n",
        "recall score: {rec_score},\n",
        "f1 score: {f1}''')"
      ],
      "metadata": {
        "id": "Q6V8Lp8TbbD_"
      },
      "execution_count": 33,
      "outputs": []
    },
    {
      "cell_type": "code",
      "source": [
        "def show_scores_scaled():\n",
        "  print(f''' SCALED SCORES:\n",
        "accuracy score: {acc_score_scaled},\n",
        "precision score: {prec_score_scaled},\n",
        "recall score: {rec_score_scaled},\n",
        "f1 score: {f1_scaled}''')"
      ],
      "metadata": {
        "id": "r-sHpvsyPnON"
      },
      "execution_count": 34,
      "outputs": []
    },
    {
      "cell_type": "markdown",
      "source": [
        "## Logistic Regression"
      ],
      "metadata": {
        "id": "K7vBDvx5PtLC"
      }
    },
    {
      "cell_type": "markdown",
      "source": [
        "Original Dataset Training"
      ],
      "metadata": {
        "id": "aPn-kC5WZ2_N"
      }
    },
    {
      "cell_type": "code",
      "source": [
        "logreg = LogisticRegression()\n",
        "logreg.fit(X_train, y_train)\n",
        "\n",
        "y_pred = logreg.predict(X_test)"
      ],
      "metadata": {
        "id": "Rz0cffeLPr1f"
      },
      "execution_count": 35,
      "outputs": []
    },
    {
      "cell_type": "code",
      "source": [
        "# accuracy_score(y_pred, y_test)"
      ],
      "metadata": {
        "id": "gbPyEfTZS-zy"
      },
      "execution_count": 36,
      "outputs": []
    },
    {
      "cell_type": "code",
      "source": [
        "# grid_result.best_params_"
      ],
      "metadata": {
        "id": "fU5IByoNWq2c"
      },
      "execution_count": 37,
      "outputs": []
    },
    {
      "cell_type": "code",
      "source": [
        "# y_pred = grid_result.predict(X_test)"
      ],
      "metadata": {
        "id": "hBqZ3IqBUWQ2"
      },
      "execution_count": 38,
      "outputs": []
    },
    {
      "cell_type": "code",
      "source": [
        "# accuracy_score(y_pred, y_test)"
      ],
      "metadata": {
        "id": "3QcIm-FjV7Uj"
      },
      "execution_count": 39,
      "outputs": []
    },
    {
      "cell_type": "code",
      "source": [
        "# # without hyperparameter tuning\n",
        "# scores = ['accuracy', 'precision', 'recall', 'f1']\n",
        "# scores_dict = [acc_score, prec_score, rec_score, f1]\n",
        "\n",
        "# for x, score_dict in zip(scores, scores_dict):\n",
        "#   score_lr = cross_val_score(logreg, X_test, y_test,cv=5, scoring=x)\n",
        "#   print('Scoring metric:', x)\n",
        "#   print(score_lr)\n",
        "#   print(\"Avg :\",np.average(score_lr))\n",
        "#   print('\\n')\n",
        "#   score_dict['Logistic Regression'] = np.average(score_lr)"
      ],
      "metadata": {
        "id": "K-UE4OTOTdJb"
      },
      "execution_count": 40,
      "outputs": []
    },
    {
      "cell_type": "code",
      "source": [
        "solvers = ['newton-cg', 'lbfgs', 'liblinear']\n",
        "penalty = ['l2']\n",
        "c_values = [100, 10, 1.0, 0.1, 0.01]"
      ],
      "metadata": {
        "id": "wxh_uVQ8T12k"
      },
      "execution_count": 41,
      "outputs": []
    },
    {
      "cell_type": "code",
      "source": [
        "grid = dict(solver=solvers,penalty=penalty,C=c_values)\n",
        "grid_search = GridSearchCV(estimator=logreg, param_grid=grid, scoring='f1')\n",
        "grid_result = grid_search.fit(X_train, y_train)"
      ],
      "metadata": {
        "id": "a3bGOr-gT2_L"
      },
      "execution_count": 42,
      "outputs": []
    },
    {
      "cell_type": "code",
      "source": [
        "# with hyperparameter tuning\n",
        "scores = ['accuracy', 'precision', 'recall', 'f1']\n",
        "scores_dict = [acc_score, prec_score, rec_score, f1]\n",
        "\n",
        "for x, score_dict in zip(scores, scores_dict):\n",
        "  score_lr = cross_val_score(grid_result.best_estimator_, X_test, y_test,cv=5, scoring=x)\n",
        "  print('Scoring metric:', x)\n",
        "  print(score_lr)\n",
        "  print(\"Avg :\",np.average(score_lr))\n",
        "  print('\\n')\n",
        "  score_dict['Logistic Regression'] = np.average(score_lr)"
      ],
      "metadata": {
        "colab": {
          "base_uri": "https://localhost:8080/"
        },
        "id": "khEiXi65Y4_P",
        "outputId": "606444bf-db28-4742-9389-ce5cf2b53a61"
      },
      "execution_count": 43,
      "outputs": [
        {
          "output_type": "stream",
          "name": "stdout",
          "text": [
            "Scoring metric: accuracy\n",
            "[0.75471698 0.79245283 0.71153846 0.86538462 0.94230769]\n",
            "Avg : 0.8132801161103048\n",
            "\n",
            "\n",
            "Scoring metric: precision\n",
            "[0.7        0.77777778 0.63157895 0.80952381 0.94736842]\n",
            "Avg : 0.773249791144528\n",
            "\n",
            "\n",
            "Scoring metric: recall\n",
            "[0.66666667 0.66666667 0.6        0.85       0.9       ]\n",
            "Avg : 0.7366666666666666\n",
            "\n",
            "\n",
            "Scoring metric: f1\n",
            "[0.68292683 0.71794872 0.61538462 0.82926829 0.92307692]\n",
            "Avg : 0.7537210756722953\n",
            "\n",
            "\n"
          ]
        }
      ]
    },
    {
      "cell_type": "markdown",
      "source": [
        "Scaled Dataset Training"
      ],
      "metadata": {
        "id": "yKdamhReZ8Gt"
      }
    },
    {
      "cell_type": "code",
      "source": [
        "logreg = LogisticRegression()\n",
        "logreg.fit(X_tr_scaled, y_tr)"
      ],
      "metadata": {
        "colab": {
          "base_uri": "https://localhost:8080/",
          "height": 74
        },
        "id": "4VKRWpHfX_b6",
        "outputId": "2d7ff563-e561-46c1-f87c-23a103bdee87"
      },
      "execution_count": 44,
      "outputs": [
        {
          "output_type": "execute_result",
          "data": {
            "text/plain": [
              "LogisticRegression()"
            ],
            "text/html": [
              "<style>#sk-container-id-1 {color: black;background-color: white;}#sk-container-id-1 pre{padding: 0;}#sk-container-id-1 div.sk-toggleable {background-color: white;}#sk-container-id-1 label.sk-toggleable__label {cursor: pointer;display: block;width: 100%;margin-bottom: 0;padding: 0.3em;box-sizing: border-box;text-align: center;}#sk-container-id-1 label.sk-toggleable__label-arrow:before {content: \"▸\";float: left;margin-right: 0.25em;color: #696969;}#sk-container-id-1 label.sk-toggleable__label-arrow:hover:before {color: black;}#sk-container-id-1 div.sk-estimator:hover label.sk-toggleable__label-arrow:before {color: black;}#sk-container-id-1 div.sk-toggleable__content {max-height: 0;max-width: 0;overflow: hidden;text-align: left;background-color: #f0f8ff;}#sk-container-id-1 div.sk-toggleable__content pre {margin: 0.2em;color: black;border-radius: 0.25em;background-color: #f0f8ff;}#sk-container-id-1 input.sk-toggleable__control:checked~div.sk-toggleable__content {max-height: 200px;max-width: 100%;overflow: auto;}#sk-container-id-1 input.sk-toggleable__control:checked~label.sk-toggleable__label-arrow:before {content: \"▾\";}#sk-container-id-1 div.sk-estimator input.sk-toggleable__control:checked~label.sk-toggleable__label {background-color: #d4ebff;}#sk-container-id-1 div.sk-label input.sk-toggleable__control:checked~label.sk-toggleable__label {background-color: #d4ebff;}#sk-container-id-1 input.sk-hidden--visually {border: 0;clip: rect(1px 1px 1px 1px);clip: rect(1px, 1px, 1px, 1px);height: 1px;margin: -1px;overflow: hidden;padding: 0;position: absolute;width: 1px;}#sk-container-id-1 div.sk-estimator {font-family: monospace;background-color: #f0f8ff;border: 1px dotted black;border-radius: 0.25em;box-sizing: border-box;margin-bottom: 0.5em;}#sk-container-id-1 div.sk-estimator:hover {background-color: #d4ebff;}#sk-container-id-1 div.sk-parallel-item::after {content: \"\";width: 100%;border-bottom: 1px solid gray;flex-grow: 1;}#sk-container-id-1 div.sk-label:hover label.sk-toggleable__label {background-color: #d4ebff;}#sk-container-id-1 div.sk-serial::before {content: \"\";position: absolute;border-left: 1px solid gray;box-sizing: border-box;top: 0;bottom: 0;left: 50%;z-index: 0;}#sk-container-id-1 div.sk-serial {display: flex;flex-direction: column;align-items: center;background-color: white;padding-right: 0.2em;padding-left: 0.2em;position: relative;}#sk-container-id-1 div.sk-item {position: relative;z-index: 1;}#sk-container-id-1 div.sk-parallel {display: flex;align-items: stretch;justify-content: center;background-color: white;position: relative;}#sk-container-id-1 div.sk-item::before, #sk-container-id-1 div.sk-parallel-item::before {content: \"\";position: absolute;border-left: 1px solid gray;box-sizing: border-box;top: 0;bottom: 0;left: 50%;z-index: -1;}#sk-container-id-1 div.sk-parallel-item {display: flex;flex-direction: column;z-index: 1;position: relative;background-color: white;}#sk-container-id-1 div.sk-parallel-item:first-child::after {align-self: flex-end;width: 50%;}#sk-container-id-1 div.sk-parallel-item:last-child::after {align-self: flex-start;width: 50%;}#sk-container-id-1 div.sk-parallel-item:only-child::after {width: 0;}#sk-container-id-1 div.sk-dashed-wrapped {border: 1px dashed gray;margin: 0 0.4em 0.5em 0.4em;box-sizing: border-box;padding-bottom: 0.4em;background-color: white;}#sk-container-id-1 div.sk-label label {font-family: monospace;font-weight: bold;display: inline-block;line-height: 1.2em;}#sk-container-id-1 div.sk-label-container {text-align: center;}#sk-container-id-1 div.sk-container {/* jupyter's `normalize.less` sets `[hidden] { display: none; }` but bootstrap.min.css set `[hidden] { display: none !important; }` so we also need the `!important` here to be able to override the default hidden behavior on the sphinx rendered scikit-learn.org. See: https://github.com/scikit-learn/scikit-learn/issues/21755 */display: inline-block !important;position: relative;}#sk-container-id-1 div.sk-text-repr-fallback {display: none;}</style><div id=\"sk-container-id-1\" class=\"sk-top-container\"><div class=\"sk-text-repr-fallback\"><pre>LogisticRegression()</pre><b>In a Jupyter environment, please rerun this cell to show the HTML representation or trust the notebook. <br />On GitHub, the HTML representation is unable to render, please try loading this page with nbviewer.org.</b></div><div class=\"sk-container\" hidden><div class=\"sk-item\"><div class=\"sk-estimator sk-toggleable\"><input class=\"sk-toggleable__control sk-hidden--visually\" id=\"sk-estimator-id-1\" type=\"checkbox\" checked><label for=\"sk-estimator-id-1\" class=\"sk-toggleable__label sk-toggleable__label-arrow\">LogisticRegression</label><div class=\"sk-toggleable__content\"><pre>LogisticRegression()</pre></div></div></div></div></div>"
            ]
          },
          "metadata": {},
          "execution_count": 44
        }
      ]
    },
    {
      "cell_type": "code",
      "source": [
        "# without hyperparameter tuning\n",
        "# scores = ['accuracy', 'precision', 'recall', 'f1']\n",
        "# scores_dict = [acc_score_scaled, prec_score_scaled, rec_score_scaled, f1_scaled]\n",
        "\n",
        "# for x, score_dict in zip(scores, scores_dict):\n",
        "#   score_lr = cross_val_score(logreg, X_te_scaled, y_te,cv=5, scoring=x)\n",
        "#   print('Scoring metric:', x)\n",
        "#   print(score_lr)\n",
        "#   print(\"Avg :\",np.average(score_lr))\n",
        "#   print('\\n')\n",
        "#   score_dict['Logistic Regression'] = np.average(score_lr)"
      ],
      "metadata": {
        "id": "_KRgXktSYc_7"
      },
      "execution_count": 45,
      "outputs": []
    },
    {
      "cell_type": "code",
      "source": [
        "solvers = ['newton-cg', 'lbfgs', 'liblinear', 'sag', 'saga']\n",
        "penalty = ['l2']\n",
        "c_values = [100, 10, 1.0, 0.1, 0.01]"
      ],
      "metadata": {
        "id": "B0CqHP9IYdo5"
      },
      "execution_count": 46,
      "outputs": []
    },
    {
      "cell_type": "code",
      "source": [
        "grid = dict(solver=solvers,penalty=penalty,C=c_values)\n",
        "grid_search = GridSearchCV(estimator=logreg, param_grid=grid, scoring='f1')\n",
        "grid_result = grid_search.fit(X_tr_scaled, y_tr)"
      ],
      "metadata": {
        "id": "r4vlKp9-Zb__"
      },
      "execution_count": 47,
      "outputs": []
    },
    {
      "cell_type": "code",
      "source": [
        "grid_result.best_params_"
      ],
      "metadata": {
        "colab": {
          "base_uri": "https://localhost:8080/"
        },
        "id": "1_TLzNZeihTu",
        "outputId": "6305376c-b2d2-4703-e24a-84f8314142d9"
      },
      "execution_count": 48,
      "outputs": [
        {
          "output_type": "execute_result",
          "data": {
            "text/plain": [
              "{'C': 0.1, 'penalty': 'l2', 'solver': 'newton-cg'}"
            ]
          },
          "metadata": {},
          "execution_count": 48
        }
      ]
    },
    {
      "cell_type": "code",
      "source": [
        "# with hyperparameter tuning\n",
        "scores = ['accuracy', 'precision', 'recall', 'f1']\n",
        "scores_dict = [acc_score_scaled, prec_score_scaled, rec_score_scaled, f1_scaled]\n",
        "\n",
        "for x, score_dict in zip(scores, scores_dict):\n",
        "  score_lr = cross_val_score(grid_result.best_estimator_, X_te_scaled, y_te,cv=5, scoring=x)\n",
        "  print('Scoring metric:', x)\n",
        "  print(score_lr)\n",
        "  print(\"Avg :\",np.average(score_lr))\n",
        "  print('\\n')\n",
        "  score_dict['Logistic Regression'] = np.average(score_lr)"
      ],
      "metadata": {
        "colab": {
          "base_uri": "https://localhost:8080/"
        },
        "id": "A0S41wMoZhWR",
        "outputId": "8634ca2e-d15b-4b3b-a1e0-a92fdf466e83"
      },
      "execution_count": 49,
      "outputs": [
        {
          "output_type": "stream",
          "name": "stdout",
          "text": [
            "Scoring metric: accuracy\n",
            "[0.77358491 0.77358491 0.80769231 0.75       0.75      ]\n",
            "Avg : 0.7709724238026124\n",
            "\n",
            "\n",
            "Scoring metric: precision\n",
            "[0.75       0.9        0.8        0.71428571 0.63636364]\n",
            "Avg : 0.7601298701298702\n",
            "\n",
            "\n",
            "Scoring metric: recall\n",
            "[0.6        0.45       0.63157895 0.52631579 0.73684211]\n",
            "Avg : 0.5889473684210527\n",
            "\n",
            "\n",
            "Scoring metric: f1\n",
            "[0.66666667 0.6        0.70588235 0.60606061 0.68292683]\n",
            "Avg : 0.6523072909873484\n",
            "\n",
            "\n"
          ]
        }
      ]
    },
    {
      "cell_type": "markdown",
      "source": [
        "## Naive Bayes"
      ],
      "metadata": {
        "id": "o0GtpzDsa_Xt"
      }
    },
    {
      "cell_type": "markdown",
      "source": [
        "Without Scaling"
      ],
      "metadata": {
        "id": "R7wFOhcNbqAd"
      }
    },
    {
      "cell_type": "code",
      "source": [
        "gnb = GaussianNB()\n",
        "gnb.fit(X_train, y_train)"
      ],
      "metadata": {
        "colab": {
          "base_uri": "https://localhost:8080/",
          "height": 74
        },
        "id": "SyypMKapa7nq",
        "outputId": "8eb2011c-5808-4505-e15c-dda23497f305"
      },
      "execution_count": 50,
      "outputs": [
        {
          "output_type": "execute_result",
          "data": {
            "text/plain": [
              "GaussianNB()"
            ],
            "text/html": [
              "<style>#sk-container-id-2 {color: black;background-color: white;}#sk-container-id-2 pre{padding: 0;}#sk-container-id-2 div.sk-toggleable {background-color: white;}#sk-container-id-2 label.sk-toggleable__label {cursor: pointer;display: block;width: 100%;margin-bottom: 0;padding: 0.3em;box-sizing: border-box;text-align: center;}#sk-container-id-2 label.sk-toggleable__label-arrow:before {content: \"▸\";float: left;margin-right: 0.25em;color: #696969;}#sk-container-id-2 label.sk-toggleable__label-arrow:hover:before {color: black;}#sk-container-id-2 div.sk-estimator:hover label.sk-toggleable__label-arrow:before {color: black;}#sk-container-id-2 div.sk-toggleable__content {max-height: 0;max-width: 0;overflow: hidden;text-align: left;background-color: #f0f8ff;}#sk-container-id-2 div.sk-toggleable__content pre {margin: 0.2em;color: black;border-radius: 0.25em;background-color: #f0f8ff;}#sk-container-id-2 input.sk-toggleable__control:checked~div.sk-toggleable__content {max-height: 200px;max-width: 100%;overflow: auto;}#sk-container-id-2 input.sk-toggleable__control:checked~label.sk-toggleable__label-arrow:before {content: \"▾\";}#sk-container-id-2 div.sk-estimator input.sk-toggleable__control:checked~label.sk-toggleable__label {background-color: #d4ebff;}#sk-container-id-2 div.sk-label input.sk-toggleable__control:checked~label.sk-toggleable__label {background-color: #d4ebff;}#sk-container-id-2 input.sk-hidden--visually {border: 0;clip: rect(1px 1px 1px 1px);clip: rect(1px, 1px, 1px, 1px);height: 1px;margin: -1px;overflow: hidden;padding: 0;position: absolute;width: 1px;}#sk-container-id-2 div.sk-estimator {font-family: monospace;background-color: #f0f8ff;border: 1px dotted black;border-radius: 0.25em;box-sizing: border-box;margin-bottom: 0.5em;}#sk-container-id-2 div.sk-estimator:hover {background-color: #d4ebff;}#sk-container-id-2 div.sk-parallel-item::after {content: \"\";width: 100%;border-bottom: 1px solid gray;flex-grow: 1;}#sk-container-id-2 div.sk-label:hover label.sk-toggleable__label {background-color: #d4ebff;}#sk-container-id-2 div.sk-serial::before {content: \"\";position: absolute;border-left: 1px solid gray;box-sizing: border-box;top: 0;bottom: 0;left: 50%;z-index: 0;}#sk-container-id-2 div.sk-serial {display: flex;flex-direction: column;align-items: center;background-color: white;padding-right: 0.2em;padding-left: 0.2em;position: relative;}#sk-container-id-2 div.sk-item {position: relative;z-index: 1;}#sk-container-id-2 div.sk-parallel {display: flex;align-items: stretch;justify-content: center;background-color: white;position: relative;}#sk-container-id-2 div.sk-item::before, #sk-container-id-2 div.sk-parallel-item::before {content: \"\";position: absolute;border-left: 1px solid gray;box-sizing: border-box;top: 0;bottom: 0;left: 50%;z-index: -1;}#sk-container-id-2 div.sk-parallel-item {display: flex;flex-direction: column;z-index: 1;position: relative;background-color: white;}#sk-container-id-2 div.sk-parallel-item:first-child::after {align-self: flex-end;width: 50%;}#sk-container-id-2 div.sk-parallel-item:last-child::after {align-self: flex-start;width: 50%;}#sk-container-id-2 div.sk-parallel-item:only-child::after {width: 0;}#sk-container-id-2 div.sk-dashed-wrapped {border: 1px dashed gray;margin: 0 0.4em 0.5em 0.4em;box-sizing: border-box;padding-bottom: 0.4em;background-color: white;}#sk-container-id-2 div.sk-label label {font-family: monospace;font-weight: bold;display: inline-block;line-height: 1.2em;}#sk-container-id-2 div.sk-label-container {text-align: center;}#sk-container-id-2 div.sk-container {/* jupyter's `normalize.less` sets `[hidden] { display: none; }` but bootstrap.min.css set `[hidden] { display: none !important; }` so we also need the `!important` here to be able to override the default hidden behavior on the sphinx rendered scikit-learn.org. See: https://github.com/scikit-learn/scikit-learn/issues/21755 */display: inline-block !important;position: relative;}#sk-container-id-2 div.sk-text-repr-fallback {display: none;}</style><div id=\"sk-container-id-2\" class=\"sk-top-container\"><div class=\"sk-text-repr-fallback\"><pre>GaussianNB()</pre><b>In a Jupyter environment, please rerun this cell to show the HTML representation or trust the notebook. <br />On GitHub, the HTML representation is unable to render, please try loading this page with nbviewer.org.</b></div><div class=\"sk-container\" hidden><div class=\"sk-item\"><div class=\"sk-estimator sk-toggleable\"><input class=\"sk-toggleable__control sk-hidden--visually\" id=\"sk-estimator-id-2\" type=\"checkbox\" checked><label for=\"sk-estimator-id-2\" class=\"sk-toggleable__label sk-toggleable__label-arrow\">GaussianNB</label><div class=\"sk-toggleable__content\"><pre>GaussianNB()</pre></div></div></div></div></div>"
            ]
          },
          "metadata": {},
          "execution_count": 50
        }
      ]
    },
    {
      "cell_type": "code",
      "source": [
        "# without hyperparameter tuning\n",
        "scores = ['accuracy', 'precision', 'recall', 'f1']\n",
        "scores_dict = [acc_score, prec_score, rec_score, f1]\n",
        "\n",
        "for x, score_dict in zip(scores, scores_dict):\n",
        "  score_lr = cross_val_score(gnb, X_test, y_test,cv=5, scoring=x)\n",
        "  print('Scoring metric:', x)\n",
        "  print(score_lr)\n",
        "  print(\"Avg :\",np.average(score_lr))\n",
        "  print('\\n')\n",
        "  score_dict['Naive Bayes'] = np.average(score_lr)"
      ],
      "metadata": {
        "colab": {
          "base_uri": "https://localhost:8080/"
        },
        "id": "fkWQS5t2bpVO",
        "outputId": "4d2d45e6-5586-4793-d943-d9e251431958"
      },
      "execution_count": 51,
      "outputs": [
        {
          "output_type": "stream",
          "name": "stdout",
          "text": [
            "Scoring metric: accuracy\n",
            "[0.71698113 0.67924528 0.67307692 0.82692308 0.78846154]\n",
            "Avg : 0.7369375907111756\n",
            "\n",
            "\n",
            "Scoring metric: precision\n",
            "[0.6        0.59090909 0.56521739 0.72       0.66666667]\n",
            "Avg : 0.6285586297760211\n",
            "\n",
            "\n",
            "Scoring metric: recall\n",
            "[0.85714286 0.61904762 0.65       0.9        0.9       ]\n",
            "Avg : 0.7852380952380952\n",
            "\n",
            "\n",
            "Scoring metric: f1\n",
            "[0.70588235 0.60465116 0.60465116 0.8        0.76595745]\n",
            "Avg : 0.6962284250662165\n",
            "\n",
            "\n"
          ]
        }
      ]
    },
    {
      "cell_type": "code",
      "source": [
        "# params_NB = {'var_smoothing': np.logspace(-0,-20, num=50)}\n",
        "\n",
        "# gs_NB = GridSearchCV(estimator=gnb,\n",
        "#                      param_grid=params_NB,\n",
        "#                      verbose=1,\n",
        "#                      scoring='f1')\n",
        "# gs_NB.fit(X_train, y_train)"
      ],
      "metadata": {
        "id": "iDoFimpqbwdC"
      },
      "execution_count": 52,
      "outputs": []
    },
    {
      "cell_type": "code",
      "source": [
        "# with hyperparameter tuning\n",
        "# scores = ['accuracy', 'precision', 'recall', 'f1']\n",
        "# scores_dict = [acc_score, prec_score, rec_score, f1]\n",
        "\n",
        "# for x, score_dict in zip(scores, scores_dict):\n",
        "#   score_lr = cross_val_score(gs_NB.best_estimator_, X_test, y_test,cv=5, scoring=x)\n",
        "#   print('Scoring metric:', x)\n",
        "#   print(score_lr)\n",
        "#   print(\"Avg :\",np.average(score_lr))\n",
        "#   print('\\n')\n",
        "#   score_dict['Naive Bayes'] = np.average(score_lr)"
      ],
      "metadata": {
        "id": "N2eaHJ1Jc6OW"
      },
      "execution_count": 53,
      "outputs": []
    },
    {
      "cell_type": "markdown",
      "source": [
        "With Scaling"
      ],
      "metadata": {
        "id": "pQPSe2JTe0MW"
      }
    },
    {
      "cell_type": "code",
      "source": [
        "gnb = GaussianNB()\n",
        "gnb.fit(X_tr_scaled, y_tr)"
      ],
      "metadata": {
        "colab": {
          "base_uri": "https://localhost:8080/",
          "height": 74
        },
        "id": "TJGJZPSBdAGd",
        "outputId": "f8377b7b-b226-4f2e-9ac5-f5c8a0cddac7"
      },
      "execution_count": 54,
      "outputs": [
        {
          "output_type": "execute_result",
          "data": {
            "text/plain": [
              "GaussianNB()"
            ],
            "text/html": [
              "<style>#sk-container-id-3 {color: black;background-color: white;}#sk-container-id-3 pre{padding: 0;}#sk-container-id-3 div.sk-toggleable {background-color: white;}#sk-container-id-3 label.sk-toggleable__label {cursor: pointer;display: block;width: 100%;margin-bottom: 0;padding: 0.3em;box-sizing: border-box;text-align: center;}#sk-container-id-3 label.sk-toggleable__label-arrow:before {content: \"▸\";float: left;margin-right: 0.25em;color: #696969;}#sk-container-id-3 label.sk-toggleable__label-arrow:hover:before {color: black;}#sk-container-id-3 div.sk-estimator:hover label.sk-toggleable__label-arrow:before {color: black;}#sk-container-id-3 div.sk-toggleable__content {max-height: 0;max-width: 0;overflow: hidden;text-align: left;background-color: #f0f8ff;}#sk-container-id-3 div.sk-toggleable__content pre {margin: 0.2em;color: black;border-radius: 0.25em;background-color: #f0f8ff;}#sk-container-id-3 input.sk-toggleable__control:checked~div.sk-toggleable__content {max-height: 200px;max-width: 100%;overflow: auto;}#sk-container-id-3 input.sk-toggleable__control:checked~label.sk-toggleable__label-arrow:before {content: \"▾\";}#sk-container-id-3 div.sk-estimator input.sk-toggleable__control:checked~label.sk-toggleable__label {background-color: #d4ebff;}#sk-container-id-3 div.sk-label input.sk-toggleable__control:checked~label.sk-toggleable__label {background-color: #d4ebff;}#sk-container-id-3 input.sk-hidden--visually {border: 0;clip: rect(1px 1px 1px 1px);clip: rect(1px, 1px, 1px, 1px);height: 1px;margin: -1px;overflow: hidden;padding: 0;position: absolute;width: 1px;}#sk-container-id-3 div.sk-estimator {font-family: monospace;background-color: #f0f8ff;border: 1px dotted black;border-radius: 0.25em;box-sizing: border-box;margin-bottom: 0.5em;}#sk-container-id-3 div.sk-estimator:hover {background-color: #d4ebff;}#sk-container-id-3 div.sk-parallel-item::after {content: \"\";width: 100%;border-bottom: 1px solid gray;flex-grow: 1;}#sk-container-id-3 div.sk-label:hover label.sk-toggleable__label {background-color: #d4ebff;}#sk-container-id-3 div.sk-serial::before {content: \"\";position: absolute;border-left: 1px solid gray;box-sizing: border-box;top: 0;bottom: 0;left: 50%;z-index: 0;}#sk-container-id-3 div.sk-serial {display: flex;flex-direction: column;align-items: center;background-color: white;padding-right: 0.2em;padding-left: 0.2em;position: relative;}#sk-container-id-3 div.sk-item {position: relative;z-index: 1;}#sk-container-id-3 div.sk-parallel {display: flex;align-items: stretch;justify-content: center;background-color: white;position: relative;}#sk-container-id-3 div.sk-item::before, #sk-container-id-3 div.sk-parallel-item::before {content: \"\";position: absolute;border-left: 1px solid gray;box-sizing: border-box;top: 0;bottom: 0;left: 50%;z-index: -1;}#sk-container-id-3 div.sk-parallel-item {display: flex;flex-direction: column;z-index: 1;position: relative;background-color: white;}#sk-container-id-3 div.sk-parallel-item:first-child::after {align-self: flex-end;width: 50%;}#sk-container-id-3 div.sk-parallel-item:last-child::after {align-self: flex-start;width: 50%;}#sk-container-id-3 div.sk-parallel-item:only-child::after {width: 0;}#sk-container-id-3 div.sk-dashed-wrapped {border: 1px dashed gray;margin: 0 0.4em 0.5em 0.4em;box-sizing: border-box;padding-bottom: 0.4em;background-color: white;}#sk-container-id-3 div.sk-label label {font-family: monospace;font-weight: bold;display: inline-block;line-height: 1.2em;}#sk-container-id-3 div.sk-label-container {text-align: center;}#sk-container-id-3 div.sk-container {/* jupyter's `normalize.less` sets `[hidden] { display: none; }` but bootstrap.min.css set `[hidden] { display: none !important; }` so we also need the `!important` here to be able to override the default hidden behavior on the sphinx rendered scikit-learn.org. See: https://github.com/scikit-learn/scikit-learn/issues/21755 */display: inline-block !important;position: relative;}#sk-container-id-3 div.sk-text-repr-fallback {display: none;}</style><div id=\"sk-container-id-3\" class=\"sk-top-container\"><div class=\"sk-text-repr-fallback\"><pre>GaussianNB()</pre><b>In a Jupyter environment, please rerun this cell to show the HTML representation or trust the notebook. <br />On GitHub, the HTML representation is unable to render, please try loading this page with nbviewer.org.</b></div><div class=\"sk-container\" hidden><div class=\"sk-item\"><div class=\"sk-estimator sk-toggleable\"><input class=\"sk-toggleable__control sk-hidden--visually\" id=\"sk-estimator-id-3\" type=\"checkbox\" checked><label for=\"sk-estimator-id-3\" class=\"sk-toggleable__label sk-toggleable__label-arrow\">GaussianNB</label><div class=\"sk-toggleable__content\"><pre>GaussianNB()</pre></div></div></div></div></div>"
            ]
          },
          "metadata": {},
          "execution_count": 54
        }
      ]
    },
    {
      "cell_type": "code",
      "source": [
        "# without hyperparameter tuning\n",
        "scores = ['accuracy', 'precision', 'recall', 'f1']\n",
        "scores_dict = [acc_score_scaled, prec_score_scaled, rec_score_scaled, f1_scaled]\n",
        "\n",
        "for x, score_dict in zip(scores, scores_dict):\n",
        "  score_lr = cross_val_score(gnb, X_te_scaled, y_te,cv=5, scoring=x)\n",
        "  print('Scoring metric:', x)\n",
        "  print(score_lr)\n",
        "  print(\"Avg :\",np.average(score_lr))\n",
        "  print('\\n')\n",
        "  score_dict['Naive Bayes'] = np.average(score_lr)"
      ],
      "metadata": {
        "colab": {
          "base_uri": "https://localhost:8080/"
        },
        "id": "ip8DsK4Ze7EU",
        "outputId": "8e611a0e-d923-4950-e96a-0a5b5ed33c2d"
      },
      "execution_count": 55,
      "outputs": [
        {
          "output_type": "stream",
          "name": "stdout",
          "text": [
            "Scoring metric: accuracy\n",
            "[0.71698113 0.81132075 0.80769231 0.67307692 0.78846154]\n",
            "Avg : 0.7595065312046444\n",
            "\n",
            "\n",
            "Scoring metric: precision\n",
            "[0.61904762 0.91666667 0.76470588 0.57142857 0.7       ]\n",
            "Avg : 0.7143697478991596\n",
            "\n",
            "\n",
            "Scoring metric: recall\n",
            "[0.65       0.55       0.68421053 0.42105263 0.73684211]\n",
            "Avg : 0.608421052631579\n",
            "\n",
            "\n",
            "Scoring metric: f1\n",
            "[0.63414634 0.6875     0.72222222 0.48484848 0.71794872]\n",
            "Avg : 0.6493331532965679\n",
            "\n",
            "\n"
          ]
        }
      ]
    },
    {
      "cell_type": "code",
      "source": [
        "# params_NB = {'var_smoothing': np.logspace(10,-20, num=100)}\n",
        "\n",
        "# gs_NB = GridSearchCV(estimator=gnb,\n",
        "#                      param_grid=params_NB,\n",
        "#                      verbose=1,\n",
        "#                      scoring='f1')\n",
        "# gs_NB.fit(X_tr_scaled, y_tr)"
      ],
      "metadata": {
        "id": "HM1dTwa0fC9_"
      },
      "execution_count": 56,
      "outputs": []
    },
    {
      "cell_type": "code",
      "source": [
        "# with hyperparameter tuning\n",
        "# scores = ['accuracy', 'precision', 'recall', 'f1']\n",
        "# scores_dict = [acc_score_scaled, prec_score_scaled, rec_score_scaled, f1_scaled]\n",
        "\n",
        "# for x, score_dict in zip(scores, scores_dict):\n",
        "#   score_lr = cross_val_score(gs_NB.best_estimator_, X_te_scaled, y_te,cv=5, scoring=x)\n",
        "#   print('Scoring metric:', x)\n",
        "#   print(score_lr)\n",
        "#   print(\"Avg :\",np.average(score_lr))\n",
        "#   print('\\n')\n",
        "#   score_dict['Naive Bayes'] = np.average(score_lr)"
      ],
      "metadata": {
        "id": "9obPeK5MfNFV"
      },
      "execution_count": 57,
      "outputs": []
    },
    {
      "cell_type": "markdown",
      "source": [
        "## KNN\n"
      ],
      "metadata": {
        "id": "qlgQCmJejzIP"
      }
    },
    {
      "cell_type": "markdown",
      "source": [
        "Without Scaling"
      ],
      "metadata": {
        "id": "hsdwIQ0kj-5-"
      }
    },
    {
      "cell_type": "code",
      "source": [
        "knn = KNeighborsClassifier()\n",
        "knn.fit(X_train, y_train)"
      ],
      "metadata": {
        "colab": {
          "base_uri": "https://localhost:8080/",
          "height": 74
        },
        "id": "q-Oc-8OOjoN1",
        "outputId": "db7ee2b7-5e2e-4592-fc50-974cdc9970ba"
      },
      "execution_count": 58,
      "outputs": [
        {
          "output_type": "execute_result",
          "data": {
            "text/plain": [
              "KNeighborsClassifier()"
            ],
            "text/html": [
              "<style>#sk-container-id-4 {color: black;background-color: white;}#sk-container-id-4 pre{padding: 0;}#sk-container-id-4 div.sk-toggleable {background-color: white;}#sk-container-id-4 label.sk-toggleable__label {cursor: pointer;display: block;width: 100%;margin-bottom: 0;padding: 0.3em;box-sizing: border-box;text-align: center;}#sk-container-id-4 label.sk-toggleable__label-arrow:before {content: \"▸\";float: left;margin-right: 0.25em;color: #696969;}#sk-container-id-4 label.sk-toggleable__label-arrow:hover:before {color: black;}#sk-container-id-4 div.sk-estimator:hover label.sk-toggleable__label-arrow:before {color: black;}#sk-container-id-4 div.sk-toggleable__content {max-height: 0;max-width: 0;overflow: hidden;text-align: left;background-color: #f0f8ff;}#sk-container-id-4 div.sk-toggleable__content pre {margin: 0.2em;color: black;border-radius: 0.25em;background-color: #f0f8ff;}#sk-container-id-4 input.sk-toggleable__control:checked~div.sk-toggleable__content {max-height: 200px;max-width: 100%;overflow: auto;}#sk-container-id-4 input.sk-toggleable__control:checked~label.sk-toggleable__label-arrow:before {content: \"▾\";}#sk-container-id-4 div.sk-estimator input.sk-toggleable__control:checked~label.sk-toggleable__label {background-color: #d4ebff;}#sk-container-id-4 div.sk-label input.sk-toggleable__control:checked~label.sk-toggleable__label {background-color: #d4ebff;}#sk-container-id-4 input.sk-hidden--visually {border: 0;clip: rect(1px 1px 1px 1px);clip: rect(1px, 1px, 1px, 1px);height: 1px;margin: -1px;overflow: hidden;padding: 0;position: absolute;width: 1px;}#sk-container-id-4 div.sk-estimator {font-family: monospace;background-color: #f0f8ff;border: 1px dotted black;border-radius: 0.25em;box-sizing: border-box;margin-bottom: 0.5em;}#sk-container-id-4 div.sk-estimator:hover {background-color: #d4ebff;}#sk-container-id-4 div.sk-parallel-item::after {content: \"\";width: 100%;border-bottom: 1px solid gray;flex-grow: 1;}#sk-container-id-4 div.sk-label:hover label.sk-toggleable__label {background-color: #d4ebff;}#sk-container-id-4 div.sk-serial::before {content: \"\";position: absolute;border-left: 1px solid gray;box-sizing: border-box;top: 0;bottom: 0;left: 50%;z-index: 0;}#sk-container-id-4 div.sk-serial {display: flex;flex-direction: column;align-items: center;background-color: white;padding-right: 0.2em;padding-left: 0.2em;position: relative;}#sk-container-id-4 div.sk-item {position: relative;z-index: 1;}#sk-container-id-4 div.sk-parallel {display: flex;align-items: stretch;justify-content: center;background-color: white;position: relative;}#sk-container-id-4 div.sk-item::before, #sk-container-id-4 div.sk-parallel-item::before {content: \"\";position: absolute;border-left: 1px solid gray;box-sizing: border-box;top: 0;bottom: 0;left: 50%;z-index: -1;}#sk-container-id-4 div.sk-parallel-item {display: flex;flex-direction: column;z-index: 1;position: relative;background-color: white;}#sk-container-id-4 div.sk-parallel-item:first-child::after {align-self: flex-end;width: 50%;}#sk-container-id-4 div.sk-parallel-item:last-child::after {align-self: flex-start;width: 50%;}#sk-container-id-4 div.sk-parallel-item:only-child::after {width: 0;}#sk-container-id-4 div.sk-dashed-wrapped {border: 1px dashed gray;margin: 0 0.4em 0.5em 0.4em;box-sizing: border-box;padding-bottom: 0.4em;background-color: white;}#sk-container-id-4 div.sk-label label {font-family: monospace;font-weight: bold;display: inline-block;line-height: 1.2em;}#sk-container-id-4 div.sk-label-container {text-align: center;}#sk-container-id-4 div.sk-container {/* jupyter's `normalize.less` sets `[hidden] { display: none; }` but bootstrap.min.css set `[hidden] { display: none !important; }` so we also need the `!important` here to be able to override the default hidden behavior on the sphinx rendered scikit-learn.org. See: https://github.com/scikit-learn/scikit-learn/issues/21755 */display: inline-block !important;position: relative;}#sk-container-id-4 div.sk-text-repr-fallback {display: none;}</style><div id=\"sk-container-id-4\" class=\"sk-top-container\"><div class=\"sk-text-repr-fallback\"><pre>KNeighborsClassifier()</pre><b>In a Jupyter environment, please rerun this cell to show the HTML representation or trust the notebook. <br />On GitHub, the HTML representation is unable to render, please try loading this page with nbviewer.org.</b></div><div class=\"sk-container\" hidden><div class=\"sk-item\"><div class=\"sk-estimator sk-toggleable\"><input class=\"sk-toggleable__control sk-hidden--visually\" id=\"sk-estimator-id-4\" type=\"checkbox\" checked><label for=\"sk-estimator-id-4\" class=\"sk-toggleable__label sk-toggleable__label-arrow\">KNeighborsClassifier</label><div class=\"sk-toggleable__content\"><pre>KNeighborsClassifier()</pre></div></div></div></div></div>"
            ]
          },
          "metadata": {},
          "execution_count": 58
        }
      ]
    },
    {
      "cell_type": "code",
      "source": [
        "# # without hyperparameter tuning\n",
        "# scores = ['accuracy', 'precision', 'recall', 'f1']\n",
        "# scores_dict = [acc_score, prec_score, rec_score, f1]\n",
        "\n",
        "# for x, score_dict in zip(scores, scores_dict):\n",
        "#   score_lr = cross_val_score(knn, X_test, y_test,cv=5, scoring=x)\n",
        "#   print('Scoring metric:', x)\n",
        "#   print(score_lr)\n",
        "#   print(\"Avg :\",np.average(score_lr))\n",
        "#   print('\\n')\n",
        "#   score_dict['KNeighbors Classifier'] = np.average(score_lr)"
      ],
      "metadata": {
        "id": "pxLQL9KCj-Et"
      },
      "execution_count": 59,
      "outputs": []
    },
    {
      "cell_type": "code",
      "source": [
        "parameter={'n_neighbors': np.arange(2, 30, 1)}\n",
        "knn_cv=GridSearchCV(knn, param_grid=parameter, verbose=1, scoring='accuracy')\n",
        "knn_cv.fit(X_train, y_train)\n",
        "print(knn_cv.best_params_)"
      ],
      "metadata": {
        "colab": {
          "base_uri": "https://localhost:8080/"
        },
        "id": "azOAo3MrkNRj",
        "outputId": "4f9ca650-90bb-49bc-9142-87dade74ecfa"
      },
      "execution_count": 60,
      "outputs": [
        {
          "output_type": "stream",
          "name": "stdout",
          "text": [
            "Fitting 5 folds for each of 28 candidates, totalling 140 fits\n",
            "{'n_neighbors': 16}\n"
          ]
        }
      ]
    },
    {
      "cell_type": "code",
      "source": [
        "# with hyperparameter tuning\n",
        "scores = ['accuracy', 'precision', 'recall', 'f1']\n",
        "scores_dict = [acc_score, prec_score, rec_score, f1]\n",
        "\n",
        "for x, score_dict in zip(scores, scores_dict):\n",
        "  score_lr = cross_val_score(knn_cv, X_test, y_test,cv=5, scoring=x)\n",
        "  print('Scoring metric:', x)\n",
        "  print(score_lr)\n",
        "  print(\"Avg :\",np.average(score_lr))\n",
        "  print('\\n')\n",
        "  score_dict['KNeighbors Classifier'] = np.average(score_lr)"
      ],
      "metadata": {
        "colab": {
          "base_uri": "https://localhost:8080/"
        },
        "id": "_GQJ57LqkjtJ",
        "outputId": "a50c94e4-f774-484f-802f-510ee2d35529"
      },
      "execution_count": 61,
      "outputs": [
        {
          "output_type": "stream",
          "name": "stdout",
          "text": [
            "Fitting 5 folds for each of 28 candidates, totalling 140 fits\n",
            "Fitting 5 folds for each of 28 candidates, totalling 140 fits\n",
            "Fitting 5 folds for each of 28 candidates, totalling 140 fits\n",
            "Fitting 5 folds for each of 28 candidates, totalling 140 fits\n",
            "Fitting 5 folds for each of 28 candidates, totalling 140 fits\n",
            "Scoring metric: accuracy\n",
            "[0.73584906 0.67924528 0.75       0.67307692 0.71153846]\n",
            "Avg : 0.7099419448476052\n",
            "\n",
            "\n",
            "Fitting 5 folds for each of 28 candidates, totalling 140 fits\n",
            "Fitting 5 folds for each of 28 candidates, totalling 140 fits\n",
            "Fitting 5 folds for each of 28 candidates, totalling 140 fits\n",
            "Fitting 5 folds for each of 28 candidates, totalling 140 fits\n",
            "Fitting 5 folds for each of 28 candidates, totalling 140 fits\n",
            "Scoring metric: precision\n",
            "[0.70588235 0.57142857 0.68421053 0.56521739 0.69230769]\n",
            "Avg : 0.6438093068595154\n",
            "\n",
            "\n",
            "Fitting 5 folds for each of 28 candidates, totalling 140 fits\n",
            "Fitting 5 folds for each of 28 candidates, totalling 140 fits\n",
            "Fitting 5 folds for each of 28 candidates, totalling 140 fits\n",
            "Fitting 5 folds for each of 28 candidates, totalling 140 fits\n",
            "Fitting 5 folds for each of 28 candidates, totalling 140 fits\n",
            "Scoring metric: recall\n",
            "[0.57142857 0.76190476 0.65       0.65       0.45      ]\n",
            "Avg : 0.6166666666666667\n",
            "\n",
            "\n",
            "Fitting 5 folds for each of 28 candidates, totalling 140 fits\n",
            "Fitting 5 folds for each of 28 candidates, totalling 140 fits\n",
            "Fitting 5 folds for each of 28 candidates, totalling 140 fits\n",
            "Fitting 5 folds for each of 28 candidates, totalling 140 fits\n",
            "Fitting 5 folds for each of 28 candidates, totalling 140 fits\n",
            "Scoring metric: f1\n",
            "[0.63157895 0.65306122 0.66666667 0.60465116 0.54545455]\n",
            "Avg : 0.6202825093540254\n",
            "\n",
            "\n"
          ]
        }
      ]
    },
    {
      "cell_type": "markdown",
      "source": [
        "With Scaling"
      ],
      "metadata": {
        "id": "PKNwRjkWlRCw"
      }
    },
    {
      "cell_type": "code",
      "source": [
        "knn = KNeighborsClassifier()\n",
        "knn.fit(X_tr_scaled, y_tr)"
      ],
      "metadata": {
        "colab": {
          "base_uri": "https://localhost:8080/",
          "height": 74
        },
        "id": "Q-h93GHDkn3P",
        "outputId": "51a10854-cf57-4a78-e7a8-8396073d1d61"
      },
      "execution_count": 62,
      "outputs": [
        {
          "output_type": "execute_result",
          "data": {
            "text/plain": [
              "KNeighborsClassifier()"
            ],
            "text/html": [
              "<style>#sk-container-id-5 {color: black;background-color: white;}#sk-container-id-5 pre{padding: 0;}#sk-container-id-5 div.sk-toggleable {background-color: white;}#sk-container-id-5 label.sk-toggleable__label {cursor: pointer;display: block;width: 100%;margin-bottom: 0;padding: 0.3em;box-sizing: border-box;text-align: center;}#sk-container-id-5 label.sk-toggleable__label-arrow:before {content: \"▸\";float: left;margin-right: 0.25em;color: #696969;}#sk-container-id-5 label.sk-toggleable__label-arrow:hover:before {color: black;}#sk-container-id-5 div.sk-estimator:hover label.sk-toggleable__label-arrow:before {color: black;}#sk-container-id-5 div.sk-toggleable__content {max-height: 0;max-width: 0;overflow: hidden;text-align: left;background-color: #f0f8ff;}#sk-container-id-5 div.sk-toggleable__content pre {margin: 0.2em;color: black;border-radius: 0.25em;background-color: #f0f8ff;}#sk-container-id-5 input.sk-toggleable__control:checked~div.sk-toggleable__content {max-height: 200px;max-width: 100%;overflow: auto;}#sk-container-id-5 input.sk-toggleable__control:checked~label.sk-toggleable__label-arrow:before {content: \"▾\";}#sk-container-id-5 div.sk-estimator input.sk-toggleable__control:checked~label.sk-toggleable__label {background-color: #d4ebff;}#sk-container-id-5 div.sk-label input.sk-toggleable__control:checked~label.sk-toggleable__label {background-color: #d4ebff;}#sk-container-id-5 input.sk-hidden--visually {border: 0;clip: rect(1px 1px 1px 1px);clip: rect(1px, 1px, 1px, 1px);height: 1px;margin: -1px;overflow: hidden;padding: 0;position: absolute;width: 1px;}#sk-container-id-5 div.sk-estimator {font-family: monospace;background-color: #f0f8ff;border: 1px dotted black;border-radius: 0.25em;box-sizing: border-box;margin-bottom: 0.5em;}#sk-container-id-5 div.sk-estimator:hover {background-color: #d4ebff;}#sk-container-id-5 div.sk-parallel-item::after {content: \"\";width: 100%;border-bottom: 1px solid gray;flex-grow: 1;}#sk-container-id-5 div.sk-label:hover label.sk-toggleable__label {background-color: #d4ebff;}#sk-container-id-5 div.sk-serial::before {content: \"\";position: absolute;border-left: 1px solid gray;box-sizing: border-box;top: 0;bottom: 0;left: 50%;z-index: 0;}#sk-container-id-5 div.sk-serial {display: flex;flex-direction: column;align-items: center;background-color: white;padding-right: 0.2em;padding-left: 0.2em;position: relative;}#sk-container-id-5 div.sk-item {position: relative;z-index: 1;}#sk-container-id-5 div.sk-parallel {display: flex;align-items: stretch;justify-content: center;background-color: white;position: relative;}#sk-container-id-5 div.sk-item::before, #sk-container-id-5 div.sk-parallel-item::before {content: \"\";position: absolute;border-left: 1px solid gray;box-sizing: border-box;top: 0;bottom: 0;left: 50%;z-index: -1;}#sk-container-id-5 div.sk-parallel-item {display: flex;flex-direction: column;z-index: 1;position: relative;background-color: white;}#sk-container-id-5 div.sk-parallel-item:first-child::after {align-self: flex-end;width: 50%;}#sk-container-id-5 div.sk-parallel-item:last-child::after {align-self: flex-start;width: 50%;}#sk-container-id-5 div.sk-parallel-item:only-child::after {width: 0;}#sk-container-id-5 div.sk-dashed-wrapped {border: 1px dashed gray;margin: 0 0.4em 0.5em 0.4em;box-sizing: border-box;padding-bottom: 0.4em;background-color: white;}#sk-container-id-5 div.sk-label label {font-family: monospace;font-weight: bold;display: inline-block;line-height: 1.2em;}#sk-container-id-5 div.sk-label-container {text-align: center;}#sk-container-id-5 div.sk-container {/* jupyter's `normalize.less` sets `[hidden] { display: none; }` but bootstrap.min.css set `[hidden] { display: none !important; }` so we also need the `!important` here to be able to override the default hidden behavior on the sphinx rendered scikit-learn.org. See: https://github.com/scikit-learn/scikit-learn/issues/21755 */display: inline-block !important;position: relative;}#sk-container-id-5 div.sk-text-repr-fallback {display: none;}</style><div id=\"sk-container-id-5\" class=\"sk-top-container\"><div class=\"sk-text-repr-fallback\"><pre>KNeighborsClassifier()</pre><b>In a Jupyter environment, please rerun this cell to show the HTML representation or trust the notebook. <br />On GitHub, the HTML representation is unable to render, please try loading this page with nbviewer.org.</b></div><div class=\"sk-container\" hidden><div class=\"sk-item\"><div class=\"sk-estimator sk-toggleable\"><input class=\"sk-toggleable__control sk-hidden--visually\" id=\"sk-estimator-id-5\" type=\"checkbox\" checked><label for=\"sk-estimator-id-5\" class=\"sk-toggleable__label sk-toggleable__label-arrow\">KNeighborsClassifier</label><div class=\"sk-toggleable__content\"><pre>KNeighborsClassifier()</pre></div></div></div></div></div>"
            ]
          },
          "metadata": {},
          "execution_count": 62
        }
      ]
    },
    {
      "cell_type": "code",
      "source": [
        "# without hyperparameter tuning\n",
        "# scores = ['accuracy', 'precision', 'recall', 'f1']\n",
        "# scores_dict = [acc_score_scaled, prec_score_scaled, rec_score_scaled, f1_scaled]\n",
        "\n",
        "# for x, score_dict in zip(scores, scores_dict):\n",
        "#   score_lr = cross_val_score(knn, X_test, y_test,cv=5, scoring=x)\n",
        "#   print('Scoring metric:', x)\n",
        "#   print(score_lr)\n",
        "#   print(\"Avg :\",np.average(score_lr))\n",
        "#   print('\\n')\n",
        "#   score_dict['KNeighbors Classifier'] = np.average(score_lr)"
      ],
      "metadata": {
        "id": "x3-cEW20lWW_"
      },
      "execution_count": 63,
      "outputs": []
    },
    {
      "cell_type": "code",
      "source": [
        "parameter={'n_neighbors': np.arange(2, 30, 1)}\n",
        "knn_cv=GridSearchCV(knn, param_grid=parameter, verbose=1, scoring='accuracy')\n",
        "knn_cv.fit(X_tr_scaled, y_tr)\n",
        "print(knn_cv.best_params_)"
      ],
      "metadata": {
        "colab": {
          "base_uri": "https://localhost:8080/"
        },
        "id": "t2V19tTDlgva",
        "outputId": "c8f910d4-9aca-44f6-bd03-c8a144e86e6a"
      },
      "execution_count": 64,
      "outputs": [
        {
          "output_type": "stream",
          "name": "stdout",
          "text": [
            "Fitting 5 folds for each of 28 candidates, totalling 140 fits\n",
            "{'n_neighbors': 12}\n"
          ]
        }
      ]
    },
    {
      "cell_type": "code",
      "source": [
        "# with hyperparameter tuning\n",
        "scores = ['accuracy', 'precision', 'recall', 'f1']\n",
        "scores_dict = [acc_score_scaled, prec_score_scaled, rec_score_scaled, f1_scaled]\n",
        "\n",
        "for x, score_dict in zip(scores, scores_dict):\n",
        "  score_lr = cross_val_score(knn_cv, X_te_scaled, y_te,cv=5, scoring=x)\n",
        "  print('Scoring metric:', x)\n",
        "  print(score_lr)\n",
        "  print(\"Avg :\",np.average(score_lr))\n",
        "  print('\\n')\n",
        "  score_dict['KNeighbors Classifier'] = np.average(score_lr)"
      ],
      "metadata": {
        "colab": {
          "base_uri": "https://localhost:8080/"
        },
        "id": "-lvKHTEzlmwG",
        "outputId": "baf296ee-fccb-4532-c940-674d7c0a2ee0"
      },
      "execution_count": 65,
      "outputs": [
        {
          "output_type": "stream",
          "name": "stdout",
          "text": [
            "Fitting 5 folds for each of 28 candidates, totalling 140 fits\n",
            "Fitting 5 folds for each of 28 candidates, totalling 140 fits\n",
            "Fitting 5 folds for each of 28 candidates, totalling 140 fits\n",
            "Fitting 5 folds for each of 28 candidates, totalling 140 fits\n",
            "Fitting 5 folds for each of 28 candidates, totalling 140 fits\n",
            "Scoring metric: accuracy\n",
            "[0.75471698 0.75471698 0.76923077 0.69230769 0.71153846]\n",
            "Avg : 0.7365021770682147\n",
            "\n",
            "\n",
            "Fitting 5 folds for each of 28 candidates, totalling 140 fits\n",
            "Fitting 5 folds for each of 28 candidates, totalling 140 fits\n",
            "Fitting 5 folds for each of 28 candidates, totalling 140 fits\n",
            "Fitting 5 folds for each of 28 candidates, totalling 140 fits\n",
            "Fitting 5 folds for each of 28 candidates, totalling 140 fits\n",
            "Scoring metric: precision\n",
            "[0.68421053 0.76923077 0.73333333 0.57142857 0.625     ]\n",
            "Avg : 0.6766406400616927\n",
            "\n",
            "\n",
            "Fitting 5 folds for each of 28 candidates, totalling 140 fits\n",
            "Fitting 5 folds for each of 28 candidates, totalling 140 fits\n",
            "Fitting 5 folds for each of 28 candidates, totalling 140 fits\n",
            "Fitting 5 folds for each of 28 candidates, totalling 140 fits\n",
            "Fitting 5 folds for each of 28 candidates, totalling 140 fits\n",
            "Scoring metric: recall\n",
            "[0.65       0.5        0.57894737 0.63157895 0.52631579]\n",
            "Avg : 0.5773684210526315\n",
            "\n",
            "\n",
            "Fitting 5 folds for each of 28 candidates, totalling 140 fits\n",
            "Fitting 5 folds for each of 28 candidates, totalling 140 fits\n",
            "Fitting 5 folds for each of 28 candidates, totalling 140 fits\n",
            "Fitting 5 folds for each of 28 candidates, totalling 140 fits\n",
            "Fitting 5 folds for each of 28 candidates, totalling 140 fits\n",
            "Scoring metric: f1\n",
            "[0.66666667 0.60606061 0.64705882 0.6        0.57142857]\n",
            "Avg : 0.6182429335370513\n",
            "\n",
            "\n"
          ]
        }
      ]
    },
    {
      "cell_type": "markdown",
      "source": [
        "## SVC"
      ],
      "metadata": {
        "id": "k8g0I1M7mRZI"
      }
    },
    {
      "cell_type": "markdown",
      "source": [
        "Without Scaling"
      ],
      "metadata": {
        "id": "N7F073WJtXO4"
      }
    },
    {
      "cell_type": "code",
      "source": [
        "svc = SVC()\n",
        "svc.fit(X_train, y_train)"
      ],
      "metadata": {
        "colab": {
          "base_uri": "https://localhost:8080/",
          "height": 74
        },
        "id": "MXlXkqmflrTQ",
        "outputId": "6b5ad450-0ef8-4780-f1f9-6589e4f56010"
      },
      "execution_count": 66,
      "outputs": [
        {
          "output_type": "execute_result",
          "data": {
            "text/plain": [
              "SVC()"
            ],
            "text/html": [
              "<style>#sk-container-id-6 {color: black;background-color: white;}#sk-container-id-6 pre{padding: 0;}#sk-container-id-6 div.sk-toggleable {background-color: white;}#sk-container-id-6 label.sk-toggleable__label {cursor: pointer;display: block;width: 100%;margin-bottom: 0;padding: 0.3em;box-sizing: border-box;text-align: center;}#sk-container-id-6 label.sk-toggleable__label-arrow:before {content: \"▸\";float: left;margin-right: 0.25em;color: #696969;}#sk-container-id-6 label.sk-toggleable__label-arrow:hover:before {color: black;}#sk-container-id-6 div.sk-estimator:hover label.sk-toggleable__label-arrow:before {color: black;}#sk-container-id-6 div.sk-toggleable__content {max-height: 0;max-width: 0;overflow: hidden;text-align: left;background-color: #f0f8ff;}#sk-container-id-6 div.sk-toggleable__content pre {margin: 0.2em;color: black;border-radius: 0.25em;background-color: #f0f8ff;}#sk-container-id-6 input.sk-toggleable__control:checked~div.sk-toggleable__content {max-height: 200px;max-width: 100%;overflow: auto;}#sk-container-id-6 input.sk-toggleable__control:checked~label.sk-toggleable__label-arrow:before {content: \"▾\";}#sk-container-id-6 div.sk-estimator input.sk-toggleable__control:checked~label.sk-toggleable__label {background-color: #d4ebff;}#sk-container-id-6 div.sk-label input.sk-toggleable__control:checked~label.sk-toggleable__label {background-color: #d4ebff;}#sk-container-id-6 input.sk-hidden--visually {border: 0;clip: rect(1px 1px 1px 1px);clip: rect(1px, 1px, 1px, 1px);height: 1px;margin: -1px;overflow: hidden;padding: 0;position: absolute;width: 1px;}#sk-container-id-6 div.sk-estimator {font-family: monospace;background-color: #f0f8ff;border: 1px dotted black;border-radius: 0.25em;box-sizing: border-box;margin-bottom: 0.5em;}#sk-container-id-6 div.sk-estimator:hover {background-color: #d4ebff;}#sk-container-id-6 div.sk-parallel-item::after {content: \"\";width: 100%;border-bottom: 1px solid gray;flex-grow: 1;}#sk-container-id-6 div.sk-label:hover label.sk-toggleable__label {background-color: #d4ebff;}#sk-container-id-6 div.sk-serial::before {content: \"\";position: absolute;border-left: 1px solid gray;box-sizing: border-box;top: 0;bottom: 0;left: 50%;z-index: 0;}#sk-container-id-6 div.sk-serial {display: flex;flex-direction: column;align-items: center;background-color: white;padding-right: 0.2em;padding-left: 0.2em;position: relative;}#sk-container-id-6 div.sk-item {position: relative;z-index: 1;}#sk-container-id-6 div.sk-parallel {display: flex;align-items: stretch;justify-content: center;background-color: white;position: relative;}#sk-container-id-6 div.sk-item::before, #sk-container-id-6 div.sk-parallel-item::before {content: \"\";position: absolute;border-left: 1px solid gray;box-sizing: border-box;top: 0;bottom: 0;left: 50%;z-index: -1;}#sk-container-id-6 div.sk-parallel-item {display: flex;flex-direction: column;z-index: 1;position: relative;background-color: white;}#sk-container-id-6 div.sk-parallel-item:first-child::after {align-self: flex-end;width: 50%;}#sk-container-id-6 div.sk-parallel-item:last-child::after {align-self: flex-start;width: 50%;}#sk-container-id-6 div.sk-parallel-item:only-child::after {width: 0;}#sk-container-id-6 div.sk-dashed-wrapped {border: 1px dashed gray;margin: 0 0.4em 0.5em 0.4em;box-sizing: border-box;padding-bottom: 0.4em;background-color: white;}#sk-container-id-6 div.sk-label label {font-family: monospace;font-weight: bold;display: inline-block;line-height: 1.2em;}#sk-container-id-6 div.sk-label-container {text-align: center;}#sk-container-id-6 div.sk-container {/* jupyter's `normalize.less` sets `[hidden] { display: none; }` but bootstrap.min.css set `[hidden] { display: none !important; }` so we also need the `!important` here to be able to override the default hidden behavior on the sphinx rendered scikit-learn.org. See: https://github.com/scikit-learn/scikit-learn/issues/21755 */display: inline-block !important;position: relative;}#sk-container-id-6 div.sk-text-repr-fallback {display: none;}</style><div id=\"sk-container-id-6\" class=\"sk-top-container\"><div class=\"sk-text-repr-fallback\"><pre>SVC()</pre><b>In a Jupyter environment, please rerun this cell to show the HTML representation or trust the notebook. <br />On GitHub, the HTML representation is unable to render, please try loading this page with nbviewer.org.</b></div><div class=\"sk-container\" hidden><div class=\"sk-item\"><div class=\"sk-estimator sk-toggleable\"><input class=\"sk-toggleable__control sk-hidden--visually\" id=\"sk-estimator-id-6\" type=\"checkbox\" checked><label for=\"sk-estimator-id-6\" class=\"sk-toggleable__label sk-toggleable__label-arrow\">SVC</label><div class=\"sk-toggleable__content\"><pre>SVC()</pre></div></div></div></div></div>"
            ]
          },
          "metadata": {},
          "execution_count": 66
        }
      ]
    },
    {
      "cell_type": "code",
      "source": [
        "scores = ['accuracy', 'precision', 'recall', 'f1']\n",
        "scores_dict = [acc_score, prec_score, rec_score, f1]\n",
        "\n",
        "for x, score_dict in zip(scores, scores_dict):\n",
        "  score_lr = cross_val_score(svc, X_test, y_test,cv=5, scoring=x)\n",
        "  print('Scoring metric:', x)\n",
        "  print(score_lr)\n",
        "  print(\"Avg :\",np.average(score_lr))\n",
        "  print('\\n')\n",
        "  score_dict['SVC'] = np.average(score_lr)"
      ],
      "metadata": {
        "colab": {
          "base_uri": "https://localhost:8080/"
        },
        "id": "4WNu-QlOmX64",
        "outputId": "6114f4fd-4100-4723-a57e-42f7b1fd7a5e"
      },
      "execution_count": 67,
      "outputs": [
        {
          "output_type": "stream",
          "name": "stdout",
          "text": [
            "Scoring metric: accuracy\n",
            "[0.69811321 0.62264151 0.65384615 0.69230769 0.57692308]\n",
            "Avg : 0.6487663280116109\n",
            "\n",
            "\n",
            "Scoring metric: precision\n",
            "[0.77777778 0.52631579 0.66666667 1.         0.41666667]\n",
            "Avg : 0.677485380116959\n",
            "\n",
            "\n",
            "Scoring metric: recall\n",
            "[0.33333333 0.47619048 0.2        0.2        0.25      ]\n",
            "Avg : 0.2919047619047619\n",
            "\n",
            "\n",
            "Scoring metric: f1\n",
            "[0.46666667 0.5        0.30769231 0.33333333 0.3125    ]\n",
            "Avg : 0.38403846153846155\n",
            "\n",
            "\n"
          ]
        }
      ]
    },
    {
      "cell_type": "code",
      "source": [
        "# param_grid = {'C': [0.1, 1, 10, 100],\n",
        "#               'gamma': [1, 0.1, 0.01],\n",
        "#               'kernel': ['rbf','linear']}\n",
        "# grid = RandomizedSearchCV(svc,param_grid, n_iter=10)\n",
        "# grid.fit(X_train,y_train)"
      ],
      "metadata": {
        "id": "vOfQTSLrmiP2"
      },
      "execution_count": 68,
      "outputs": []
    },
    {
      "cell_type": "code",
      "source": [
        "# # with hyperparameter tuning\n",
        "# scores = ['accuracy', 'precision', 'recall', 'f1']\n",
        "# scores_dict = [acc_score, prec_score, rec_score, f1]\n",
        "\n",
        "# for x, score_dict in zip(scores, scores_dict):\n",
        "#   score_lr = cross_val_score(grid, X_test, y_test,cv=5, scoring=x)\n",
        "#   print('Scoring metric:', x)\n",
        "#   print(score_lr)\n",
        "#   print(\"Avg :\",np.average(score_lr))\n",
        "#   print('\\n')\n",
        "#   score_dict['SVC'] = np.average(score_lr)"
      ],
      "metadata": {
        "id": "phMjD7xEm4i2"
      },
      "execution_count": 69,
      "outputs": []
    },
    {
      "cell_type": "markdown",
      "source": [
        "With Scaling"
      ],
      "metadata": {
        "id": "QH4NIba0tWZh"
      }
    },
    {
      "cell_type": "code",
      "source": [
        "svc = SVC()\n",
        "svc.fit(X_tr_scaled, y_tr)"
      ],
      "metadata": {
        "colab": {
          "base_uri": "https://localhost:8080/",
          "height": 74
        },
        "id": "yTQPAk8lne6w",
        "outputId": "73c1bc4c-d462-481d-ff9c-4de427dbb747"
      },
      "execution_count": 70,
      "outputs": [
        {
          "output_type": "execute_result",
          "data": {
            "text/plain": [
              "SVC()"
            ],
            "text/html": [
              "<style>#sk-container-id-7 {color: black;background-color: white;}#sk-container-id-7 pre{padding: 0;}#sk-container-id-7 div.sk-toggleable {background-color: white;}#sk-container-id-7 label.sk-toggleable__label {cursor: pointer;display: block;width: 100%;margin-bottom: 0;padding: 0.3em;box-sizing: border-box;text-align: center;}#sk-container-id-7 label.sk-toggleable__label-arrow:before {content: \"▸\";float: left;margin-right: 0.25em;color: #696969;}#sk-container-id-7 label.sk-toggleable__label-arrow:hover:before {color: black;}#sk-container-id-7 div.sk-estimator:hover label.sk-toggleable__label-arrow:before {color: black;}#sk-container-id-7 div.sk-toggleable__content {max-height: 0;max-width: 0;overflow: hidden;text-align: left;background-color: #f0f8ff;}#sk-container-id-7 div.sk-toggleable__content pre {margin: 0.2em;color: black;border-radius: 0.25em;background-color: #f0f8ff;}#sk-container-id-7 input.sk-toggleable__control:checked~div.sk-toggleable__content {max-height: 200px;max-width: 100%;overflow: auto;}#sk-container-id-7 input.sk-toggleable__control:checked~label.sk-toggleable__label-arrow:before {content: \"▾\";}#sk-container-id-7 div.sk-estimator input.sk-toggleable__control:checked~label.sk-toggleable__label {background-color: #d4ebff;}#sk-container-id-7 div.sk-label input.sk-toggleable__control:checked~label.sk-toggleable__label {background-color: #d4ebff;}#sk-container-id-7 input.sk-hidden--visually {border: 0;clip: rect(1px 1px 1px 1px);clip: rect(1px, 1px, 1px, 1px);height: 1px;margin: -1px;overflow: hidden;padding: 0;position: absolute;width: 1px;}#sk-container-id-7 div.sk-estimator {font-family: monospace;background-color: #f0f8ff;border: 1px dotted black;border-radius: 0.25em;box-sizing: border-box;margin-bottom: 0.5em;}#sk-container-id-7 div.sk-estimator:hover {background-color: #d4ebff;}#sk-container-id-7 div.sk-parallel-item::after {content: \"\";width: 100%;border-bottom: 1px solid gray;flex-grow: 1;}#sk-container-id-7 div.sk-label:hover label.sk-toggleable__label {background-color: #d4ebff;}#sk-container-id-7 div.sk-serial::before {content: \"\";position: absolute;border-left: 1px solid gray;box-sizing: border-box;top: 0;bottom: 0;left: 50%;z-index: 0;}#sk-container-id-7 div.sk-serial {display: flex;flex-direction: column;align-items: center;background-color: white;padding-right: 0.2em;padding-left: 0.2em;position: relative;}#sk-container-id-7 div.sk-item {position: relative;z-index: 1;}#sk-container-id-7 div.sk-parallel {display: flex;align-items: stretch;justify-content: center;background-color: white;position: relative;}#sk-container-id-7 div.sk-item::before, #sk-container-id-7 div.sk-parallel-item::before {content: \"\";position: absolute;border-left: 1px solid gray;box-sizing: border-box;top: 0;bottom: 0;left: 50%;z-index: -1;}#sk-container-id-7 div.sk-parallel-item {display: flex;flex-direction: column;z-index: 1;position: relative;background-color: white;}#sk-container-id-7 div.sk-parallel-item:first-child::after {align-self: flex-end;width: 50%;}#sk-container-id-7 div.sk-parallel-item:last-child::after {align-self: flex-start;width: 50%;}#sk-container-id-7 div.sk-parallel-item:only-child::after {width: 0;}#sk-container-id-7 div.sk-dashed-wrapped {border: 1px dashed gray;margin: 0 0.4em 0.5em 0.4em;box-sizing: border-box;padding-bottom: 0.4em;background-color: white;}#sk-container-id-7 div.sk-label label {font-family: monospace;font-weight: bold;display: inline-block;line-height: 1.2em;}#sk-container-id-7 div.sk-label-container {text-align: center;}#sk-container-id-7 div.sk-container {/* jupyter's `normalize.less` sets `[hidden] { display: none; }` but bootstrap.min.css set `[hidden] { display: none !important; }` so we also need the `!important` here to be able to override the default hidden behavior on the sphinx rendered scikit-learn.org. See: https://github.com/scikit-learn/scikit-learn/issues/21755 */display: inline-block !important;position: relative;}#sk-container-id-7 div.sk-text-repr-fallback {display: none;}</style><div id=\"sk-container-id-7\" class=\"sk-top-container\"><div class=\"sk-text-repr-fallback\"><pre>SVC()</pre><b>In a Jupyter environment, please rerun this cell to show the HTML representation or trust the notebook. <br />On GitHub, the HTML representation is unable to render, please try loading this page with nbviewer.org.</b></div><div class=\"sk-container\" hidden><div class=\"sk-item\"><div class=\"sk-estimator sk-toggleable\"><input class=\"sk-toggleable__control sk-hidden--visually\" id=\"sk-estimator-id-7\" type=\"checkbox\" checked><label for=\"sk-estimator-id-7\" class=\"sk-toggleable__label sk-toggleable__label-arrow\">SVC</label><div class=\"sk-toggleable__content\"><pre>SVC()</pre></div></div></div></div></div>"
            ]
          },
          "metadata": {},
          "execution_count": 70
        }
      ]
    },
    {
      "cell_type": "code",
      "source": [
        "scores = ['accuracy', 'precision', 'recall', 'f1']\n",
        "scores_dict = [acc_score_scaled, prec_score_scaled, rec_score_scaled, f1_scaled]\n",
        "\n",
        "for x, score_dict in zip(scores, scores_dict):\n",
        "  score_lr = cross_val_score(svc, X_te_scaled, y_te,cv=5, scoring=x)\n",
        "  print('Scoring metric:', x)\n",
        "  print(score_lr)\n",
        "  print(\"Avg :\",np.average(score_lr))\n",
        "  print('\\n')\n",
        "  score_dict['SVC'] = np.average(score_lr)"
      ],
      "metadata": {
        "colab": {
          "base_uri": "https://localhost:8080/"
        },
        "id": "XV2RcOdjtf5I",
        "outputId": "58f55fbf-8d1c-4d1d-f63d-dc79be5c6c5d"
      },
      "execution_count": 71,
      "outputs": [
        {
          "output_type": "stream",
          "name": "stdout",
          "text": [
            "Scoring metric: accuracy\n",
            "[0.81132075 0.73584906 0.75       0.73076923 0.78846154]\n",
            "Avg : 0.7632801161103048\n",
            "\n",
            "\n",
            "Scoring metric: precision\n",
            "[0.75       0.8        0.6875     0.61904762 0.72222222]\n",
            "Avg : 0.7157539682539682\n",
            "\n",
            "\n",
            "Scoring metric: recall\n",
            "[0.75       0.4        0.57894737 0.68421053 0.68421053]\n",
            "Avg : 0.6194736842105263\n",
            "\n",
            "\n",
            "Scoring metric: f1\n",
            "[0.75       0.53333333 0.62857143 0.65       0.7027027 ]\n",
            "Avg : 0.6529214929214928\n",
            "\n",
            "\n"
          ]
        }
      ]
    },
    {
      "cell_type": "markdown",
      "source": [
        "## Decision Tree Classifier"
      ],
      "metadata": {
        "id": "uPQ6fGTSty8C"
      }
    },
    {
      "cell_type": "code",
      "source": [
        "# decision_tree = DecisionTreeClassifier()\n",
        "# decision_tree.fit(X_train, y_train)"
      ],
      "metadata": {
        "id": "y1_hEECpvQY5"
      },
      "execution_count": 72,
      "outputs": []
    },
    {
      "cell_type": "code",
      "source": [
        "# scores = ['accuracy', 'precision', 'recall', 'f1']\n",
        "# scores_dict = [acc_score, prec_score, rec_score, f1]\n",
        "\n",
        "# for x, score_dict in zip(scores, scores_dict):\n",
        "#   score_lr = cross_val_score(decision_tree, X_test, y_test,cv=5, scoring=x)\n",
        "#   print('Scoring metric:', x)\n",
        "#   print(score_lr)\n",
        "#   print(\"Avg :\",np.average(score_lr))\n",
        "#   print('\\n')\n",
        "#   score_dict['Decision Tree'] = np.average(score_lr)"
      ],
      "metadata": {
        "id": "Na4TOBcHvaB3"
      },
      "execution_count": 73,
      "outputs": []
    },
    {
      "cell_type": "code",
      "source": [
        "# from scipy.stats import poisson, uniform"
      ],
      "metadata": {
        "id": "tLc9eB733x3U"
      },
      "execution_count": 74,
      "outputs": []
    },
    {
      "cell_type": "code",
      "source": [
        "# parameters = {'criterion':[ 'gini','entropy'],\n",
        "#               'max_depth': poisson(mu=3,loc=3),\n",
        "#               'min_samples_split':uniform(),\n",
        "#               'max_leaf_nodes':poisson(mu=5,loc=3)}\n",
        "\n",
        "# parameters = {'criterion':['gini','entropy'],\n",
        "#               'max_depth':np.arange(1,21).tolist()[0::2],\n",
        "#               'min_samples_split':np.arange(2,11).tolist()[0::2],\n",
        "#               'max_leaf_nodes':np.arange(3,26).tolist()[0::2]}\n",
        "\n",
        "# # create an instance of the randomized search object\n",
        "# r1 = RandomizedSearchCV(DecisionTreeClassifier(), parameters, cv=5, n_iter=1000, n_jobs=-1, scoring='accuracy')\n",
        "\n",
        "# # conduct grid search over the parameter space\n",
        "# r1.fit(X_train,y_train)"
      ],
      "metadata": {
        "id": "EQmCRykatvX7"
      },
      "execution_count": 75,
      "outputs": []
    },
    {
      "cell_type": "code",
      "source": [
        "# r1.best_params_"
      ],
      "metadata": {
        "id": "88K_D29MwEdb"
      },
      "execution_count": 76,
      "outputs": []
    },
    {
      "cell_type": "code",
      "source": [
        "r1 = DecisionTreeClassifier(min_samples_split= 6,\n",
        "                            max_leaf_nodes= 9,\n",
        "                            max_depth= 3,\n",
        "                            criterion= 'entropy')\n",
        "r1.fit(X_train,y_train)"
      ],
      "metadata": {
        "colab": {
          "base_uri": "https://localhost:8080/",
          "height": 92
        },
        "id": "RRZPWlsgUjky",
        "outputId": "5467fc2b-92e9-4022-dc17-4ef1989fd4d6"
      },
      "execution_count": 77,
      "outputs": [
        {
          "output_type": "execute_result",
          "data": {
            "text/plain": [
              "DecisionTreeClassifier(criterion='entropy', max_depth=3, max_leaf_nodes=9,\n",
              "                       min_samples_split=6)"
            ],
            "text/html": [
              "<style>#sk-container-id-8 {color: black;background-color: white;}#sk-container-id-8 pre{padding: 0;}#sk-container-id-8 div.sk-toggleable {background-color: white;}#sk-container-id-8 label.sk-toggleable__label {cursor: pointer;display: block;width: 100%;margin-bottom: 0;padding: 0.3em;box-sizing: border-box;text-align: center;}#sk-container-id-8 label.sk-toggleable__label-arrow:before {content: \"▸\";float: left;margin-right: 0.25em;color: #696969;}#sk-container-id-8 label.sk-toggleable__label-arrow:hover:before {color: black;}#sk-container-id-8 div.sk-estimator:hover label.sk-toggleable__label-arrow:before {color: black;}#sk-container-id-8 div.sk-toggleable__content {max-height: 0;max-width: 0;overflow: hidden;text-align: left;background-color: #f0f8ff;}#sk-container-id-8 div.sk-toggleable__content pre {margin: 0.2em;color: black;border-radius: 0.25em;background-color: #f0f8ff;}#sk-container-id-8 input.sk-toggleable__control:checked~div.sk-toggleable__content {max-height: 200px;max-width: 100%;overflow: auto;}#sk-container-id-8 input.sk-toggleable__control:checked~label.sk-toggleable__label-arrow:before {content: \"▾\";}#sk-container-id-8 div.sk-estimator input.sk-toggleable__control:checked~label.sk-toggleable__label {background-color: #d4ebff;}#sk-container-id-8 div.sk-label input.sk-toggleable__control:checked~label.sk-toggleable__label {background-color: #d4ebff;}#sk-container-id-8 input.sk-hidden--visually {border: 0;clip: rect(1px 1px 1px 1px);clip: rect(1px, 1px, 1px, 1px);height: 1px;margin: -1px;overflow: hidden;padding: 0;position: absolute;width: 1px;}#sk-container-id-8 div.sk-estimator {font-family: monospace;background-color: #f0f8ff;border: 1px dotted black;border-radius: 0.25em;box-sizing: border-box;margin-bottom: 0.5em;}#sk-container-id-8 div.sk-estimator:hover {background-color: #d4ebff;}#sk-container-id-8 div.sk-parallel-item::after {content: \"\";width: 100%;border-bottom: 1px solid gray;flex-grow: 1;}#sk-container-id-8 div.sk-label:hover label.sk-toggleable__label {background-color: #d4ebff;}#sk-container-id-8 div.sk-serial::before {content: \"\";position: absolute;border-left: 1px solid gray;box-sizing: border-box;top: 0;bottom: 0;left: 50%;z-index: 0;}#sk-container-id-8 div.sk-serial {display: flex;flex-direction: column;align-items: center;background-color: white;padding-right: 0.2em;padding-left: 0.2em;position: relative;}#sk-container-id-8 div.sk-item {position: relative;z-index: 1;}#sk-container-id-8 div.sk-parallel {display: flex;align-items: stretch;justify-content: center;background-color: white;position: relative;}#sk-container-id-8 div.sk-item::before, #sk-container-id-8 div.sk-parallel-item::before {content: \"\";position: absolute;border-left: 1px solid gray;box-sizing: border-box;top: 0;bottom: 0;left: 50%;z-index: -1;}#sk-container-id-8 div.sk-parallel-item {display: flex;flex-direction: column;z-index: 1;position: relative;background-color: white;}#sk-container-id-8 div.sk-parallel-item:first-child::after {align-self: flex-end;width: 50%;}#sk-container-id-8 div.sk-parallel-item:last-child::after {align-self: flex-start;width: 50%;}#sk-container-id-8 div.sk-parallel-item:only-child::after {width: 0;}#sk-container-id-8 div.sk-dashed-wrapped {border: 1px dashed gray;margin: 0 0.4em 0.5em 0.4em;box-sizing: border-box;padding-bottom: 0.4em;background-color: white;}#sk-container-id-8 div.sk-label label {font-family: monospace;font-weight: bold;display: inline-block;line-height: 1.2em;}#sk-container-id-8 div.sk-label-container {text-align: center;}#sk-container-id-8 div.sk-container {/* jupyter's `normalize.less` sets `[hidden] { display: none; }` but bootstrap.min.css set `[hidden] { display: none !important; }` so we also need the `!important` here to be able to override the default hidden behavior on the sphinx rendered scikit-learn.org. See: https://github.com/scikit-learn/scikit-learn/issues/21755 */display: inline-block !important;position: relative;}#sk-container-id-8 div.sk-text-repr-fallback {display: none;}</style><div id=\"sk-container-id-8\" class=\"sk-top-container\"><div class=\"sk-text-repr-fallback\"><pre>DecisionTreeClassifier(criterion=&#x27;entropy&#x27;, max_depth=3, max_leaf_nodes=9,\n",
              "                       min_samples_split=6)</pre><b>In a Jupyter environment, please rerun this cell to show the HTML representation or trust the notebook. <br />On GitHub, the HTML representation is unable to render, please try loading this page with nbviewer.org.</b></div><div class=\"sk-container\" hidden><div class=\"sk-item\"><div class=\"sk-estimator sk-toggleable\"><input class=\"sk-toggleable__control sk-hidden--visually\" id=\"sk-estimator-id-8\" type=\"checkbox\" checked><label for=\"sk-estimator-id-8\" class=\"sk-toggleable__label sk-toggleable__label-arrow\">DecisionTreeClassifier</label><div class=\"sk-toggleable__content\"><pre>DecisionTreeClassifier(criterion=&#x27;entropy&#x27;, max_depth=3, max_leaf_nodes=9,\n",
              "                       min_samples_split=6)</pre></div></div></div></div></div>"
            ]
          },
          "metadata": {},
          "execution_count": 77
        }
      ]
    },
    {
      "cell_type": "code",
      "source": [
        "scores = ['accuracy', 'precision', 'recall', 'f1']\n",
        "scores_dict = [acc_score, prec_score, rec_score, f1]\n",
        "\n",
        "for x, score_dict in zip(scores, scores_dict):\n",
        "  score_lr = cross_val_score(r1, X_test, y_test,cv=5, scoring=x)\n",
        "  print('Scoring metric:', x)\n",
        "  print(score_lr)\n",
        "  print(\"Avg :\",np.average(score_lr))\n",
        "  print('\\n')\n",
        "  score_dict['Decision Tree'] = np.average(score_lr)"
      ],
      "metadata": {
        "colab": {
          "base_uri": "https://localhost:8080/"
        },
        "id": "6tXcYjfGufGh",
        "outputId": "6bd17737-1185-42d9-d28e-45054ed5eb3b"
      },
      "execution_count": 78,
      "outputs": [
        {
          "output_type": "stream",
          "name": "stdout",
          "text": [
            "Scoring metric: accuracy\n",
            "[0.8490566  0.73584906 0.78846154 0.84615385 0.84615385]\n",
            "Avg : 0.8131349782293178\n",
            "\n",
            "\n",
            "Scoring metric: precision\n",
            "[1.         0.76923077 1.         0.92857143 1.        ]\n",
            "Avg : 0.9395604395604396\n",
            "\n",
            "\n",
            "Scoring metric: recall\n",
            "[0.61904762 0.47619048 0.45       0.65       0.6       ]\n",
            "Avg : 0.5590476190476191\n",
            "\n",
            "\n",
            "Scoring metric: f1\n",
            "[0.76470588 0.58823529 0.62068966 0.76470588 0.75      ]\n",
            "Avg : 0.6976673427991886\n",
            "\n",
            "\n"
          ]
        }
      ]
    },
    {
      "cell_type": "code",
      "source": [
        "# parameters = {'criterion':['gini','entropy'],\n",
        "#               'max_depth':np.arange(1,21).tolist()[0::2],\n",
        "#               'min_samples_split':np.arange(2,11).tolist()[0::2],\n",
        "#               'max_leaf_nodes':np.arange(3,26).tolist()[0::2]}\n",
        "\n",
        "# # create an instance of the grid search object\n",
        "# g1 = GridSearchCV(DecisionTreeClassifier(), parameters, cv=5, n_jobs=-1)\n",
        "# g1.fit(X_train, y_train)"
      ],
      "metadata": {
        "id": "iJ3n9TzfxlqA"
      },
      "execution_count": 79,
      "outputs": []
    },
    {
      "cell_type": "code",
      "source": [
        "# g1.best_params_"
      ],
      "metadata": {
        "id": "NOkc8yXryg0a"
      },
      "execution_count": 80,
      "outputs": []
    },
    {
      "cell_type": "code",
      "source": [
        "# scores = ['accuracy', 'precision', 'recall', 'f1']\n",
        "# scores_dict = [acc_score, prec_score, rec_score, f1]\n",
        "\n",
        "# for x, score_dict in zip(scores, scores_dict):\n",
        "#   score_lr = cross_val_score(g1.best_estimator_, X_test, y_test,cv=5, scoring=x)\n",
        "#   print('Scoring metric:', x)\n",
        "#   print(score_lr)\n",
        "#   print(\"Avg :\",np.average(score_lr))\n",
        "#   print('\\n')\n",
        "#   score_dict['Decision Tree'] = np.average(score_lr)"
      ],
      "metadata": {
        "id": "PxzUDDMLxrJ0"
      },
      "execution_count": 81,
      "outputs": []
    },
    {
      "cell_type": "code",
      "source": [
        "acc_score_scaled['Decision Tree']= 0.820754716981132\n",
        "\n",
        "prec_score_scaled['Decision Tree']=0.7937851037851038\n",
        "rec_score_scaled['Decision Tree']=0.720952380952381\n",
        "f1_scaled['Decision Tree']=0.7654229815620578"
      ],
      "metadata": {
        "id": "XnF5NK7k2W52"
      },
      "execution_count": 82,
      "outputs": []
    },
    {
      "cell_type": "markdown",
      "source": [
        "## Random Forest Classifier"
      ],
      "metadata": {
        "id": "PfIc9nczyyBt"
      }
    },
    {
      "cell_type": "code",
      "source": [
        "param_grid = {\n",
        "    'n_estimators': [25, 50, 100, 150],\n",
        "    'max_features': ['sqrt', 'log2', None],\n",
        "    'max_depth': [3, 6, 9],\n",
        "    'max_leaf_nodes': [3, 6, 9],\n",
        "}"
      ],
      "metadata": {
        "id": "4iKQr4Vxyz79"
      },
      "execution_count": 83,
      "outputs": []
    },
    {
      "cell_type": "code",
      "source": [
        "grid_search = GridSearchCV(RandomForestClassifier(),\n",
        "                           param_grid=param_grid)\n",
        "grid_search.fit(X_train, y_train)"
      ],
      "metadata": {
        "colab": {
          "base_uri": "https://localhost:8080/",
          "height": 117
        },
        "id": "txOYEJlmzXVo",
        "outputId": "535e40a7-65f6-4c8c-851b-b483858b1ae1"
      },
      "execution_count": 84,
      "outputs": [
        {
          "output_type": "execute_result",
          "data": {
            "text/plain": [
              "GridSearchCV(estimator=RandomForestClassifier(),\n",
              "             param_grid={'max_depth': [3, 6, 9],\n",
              "                         'max_features': ['sqrt', 'log2', None],\n",
              "                         'max_leaf_nodes': [3, 6, 9],\n",
              "                         'n_estimators': [25, 50, 100, 150]})"
            ],
            "text/html": [
              "<style>#sk-container-id-9 {color: black;background-color: white;}#sk-container-id-9 pre{padding: 0;}#sk-container-id-9 div.sk-toggleable {background-color: white;}#sk-container-id-9 label.sk-toggleable__label {cursor: pointer;display: block;width: 100%;margin-bottom: 0;padding: 0.3em;box-sizing: border-box;text-align: center;}#sk-container-id-9 label.sk-toggleable__label-arrow:before {content: \"▸\";float: left;margin-right: 0.25em;color: #696969;}#sk-container-id-9 label.sk-toggleable__label-arrow:hover:before {color: black;}#sk-container-id-9 div.sk-estimator:hover label.sk-toggleable__label-arrow:before {color: black;}#sk-container-id-9 div.sk-toggleable__content {max-height: 0;max-width: 0;overflow: hidden;text-align: left;background-color: #f0f8ff;}#sk-container-id-9 div.sk-toggleable__content pre {margin: 0.2em;color: black;border-radius: 0.25em;background-color: #f0f8ff;}#sk-container-id-9 input.sk-toggleable__control:checked~div.sk-toggleable__content {max-height: 200px;max-width: 100%;overflow: auto;}#sk-container-id-9 input.sk-toggleable__control:checked~label.sk-toggleable__label-arrow:before {content: \"▾\";}#sk-container-id-9 div.sk-estimator input.sk-toggleable__control:checked~label.sk-toggleable__label {background-color: #d4ebff;}#sk-container-id-9 div.sk-label input.sk-toggleable__control:checked~label.sk-toggleable__label {background-color: #d4ebff;}#sk-container-id-9 input.sk-hidden--visually {border: 0;clip: rect(1px 1px 1px 1px);clip: rect(1px, 1px, 1px, 1px);height: 1px;margin: -1px;overflow: hidden;padding: 0;position: absolute;width: 1px;}#sk-container-id-9 div.sk-estimator {font-family: monospace;background-color: #f0f8ff;border: 1px dotted black;border-radius: 0.25em;box-sizing: border-box;margin-bottom: 0.5em;}#sk-container-id-9 div.sk-estimator:hover {background-color: #d4ebff;}#sk-container-id-9 div.sk-parallel-item::after {content: \"\";width: 100%;border-bottom: 1px solid gray;flex-grow: 1;}#sk-container-id-9 div.sk-label:hover label.sk-toggleable__label {background-color: #d4ebff;}#sk-container-id-9 div.sk-serial::before {content: \"\";position: absolute;border-left: 1px solid gray;box-sizing: border-box;top: 0;bottom: 0;left: 50%;z-index: 0;}#sk-container-id-9 div.sk-serial {display: flex;flex-direction: column;align-items: center;background-color: white;padding-right: 0.2em;padding-left: 0.2em;position: relative;}#sk-container-id-9 div.sk-item {position: relative;z-index: 1;}#sk-container-id-9 div.sk-parallel {display: flex;align-items: stretch;justify-content: center;background-color: white;position: relative;}#sk-container-id-9 div.sk-item::before, #sk-container-id-9 div.sk-parallel-item::before {content: \"\";position: absolute;border-left: 1px solid gray;box-sizing: border-box;top: 0;bottom: 0;left: 50%;z-index: -1;}#sk-container-id-9 div.sk-parallel-item {display: flex;flex-direction: column;z-index: 1;position: relative;background-color: white;}#sk-container-id-9 div.sk-parallel-item:first-child::after {align-self: flex-end;width: 50%;}#sk-container-id-9 div.sk-parallel-item:last-child::after {align-self: flex-start;width: 50%;}#sk-container-id-9 div.sk-parallel-item:only-child::after {width: 0;}#sk-container-id-9 div.sk-dashed-wrapped {border: 1px dashed gray;margin: 0 0.4em 0.5em 0.4em;box-sizing: border-box;padding-bottom: 0.4em;background-color: white;}#sk-container-id-9 div.sk-label label {font-family: monospace;font-weight: bold;display: inline-block;line-height: 1.2em;}#sk-container-id-9 div.sk-label-container {text-align: center;}#sk-container-id-9 div.sk-container {/* jupyter's `normalize.less` sets `[hidden] { display: none; }` but bootstrap.min.css set `[hidden] { display: none !important; }` so we also need the `!important` here to be able to override the default hidden behavior on the sphinx rendered scikit-learn.org. See: https://github.com/scikit-learn/scikit-learn/issues/21755 */display: inline-block !important;position: relative;}#sk-container-id-9 div.sk-text-repr-fallback {display: none;}</style><div id=\"sk-container-id-9\" class=\"sk-top-container\"><div class=\"sk-text-repr-fallback\"><pre>GridSearchCV(estimator=RandomForestClassifier(),\n",
              "             param_grid={&#x27;max_depth&#x27;: [3, 6, 9],\n",
              "                         &#x27;max_features&#x27;: [&#x27;sqrt&#x27;, &#x27;log2&#x27;, None],\n",
              "                         &#x27;max_leaf_nodes&#x27;: [3, 6, 9],\n",
              "                         &#x27;n_estimators&#x27;: [25, 50, 100, 150]})</pre><b>In a Jupyter environment, please rerun this cell to show the HTML representation or trust the notebook. <br />On GitHub, the HTML representation is unable to render, please try loading this page with nbviewer.org.</b></div><div class=\"sk-container\" hidden><div class=\"sk-item sk-dashed-wrapped\"><div class=\"sk-label-container\"><div class=\"sk-label sk-toggleable\"><input class=\"sk-toggleable__control sk-hidden--visually\" id=\"sk-estimator-id-9\" type=\"checkbox\" ><label for=\"sk-estimator-id-9\" class=\"sk-toggleable__label sk-toggleable__label-arrow\">GridSearchCV</label><div class=\"sk-toggleable__content\"><pre>GridSearchCV(estimator=RandomForestClassifier(),\n",
              "             param_grid={&#x27;max_depth&#x27;: [3, 6, 9],\n",
              "                         &#x27;max_features&#x27;: [&#x27;sqrt&#x27;, &#x27;log2&#x27;, None],\n",
              "                         &#x27;max_leaf_nodes&#x27;: [3, 6, 9],\n",
              "                         &#x27;n_estimators&#x27;: [25, 50, 100, 150]})</pre></div></div></div><div class=\"sk-parallel\"><div class=\"sk-parallel-item\"><div class=\"sk-item\"><div class=\"sk-label-container\"><div class=\"sk-label sk-toggleable\"><input class=\"sk-toggleable__control sk-hidden--visually\" id=\"sk-estimator-id-10\" type=\"checkbox\" ><label for=\"sk-estimator-id-10\" class=\"sk-toggleable__label sk-toggleable__label-arrow\">estimator: RandomForestClassifier</label><div class=\"sk-toggleable__content\"><pre>RandomForestClassifier()</pre></div></div></div><div class=\"sk-serial\"><div class=\"sk-item\"><div class=\"sk-estimator sk-toggleable\"><input class=\"sk-toggleable__control sk-hidden--visually\" id=\"sk-estimator-id-11\" type=\"checkbox\" ><label for=\"sk-estimator-id-11\" class=\"sk-toggleable__label sk-toggleable__label-arrow\">RandomForestClassifier</label><div class=\"sk-toggleable__content\"><pre>RandomForestClassifier()</pre></div></div></div></div></div></div></div></div></div></div>"
            ]
          },
          "metadata": {},
          "execution_count": 84
        }
      ]
    },
    {
      "cell_type": "code",
      "source": [
        "grid_search.best_params_"
      ],
      "metadata": {
        "colab": {
          "base_uri": "https://localhost:8080/"
        },
        "id": "9GapcsILYlDh",
        "outputId": "fac86ab6-2418-44b6-ce1b-55bb87fa2ed9"
      },
      "execution_count": 85,
      "outputs": [
        {
          "output_type": "execute_result",
          "data": {
            "text/plain": [
              "{'max_depth': 6, 'max_features': None, 'max_leaf_nodes': 9, 'n_estimators': 50}"
            ]
          },
          "metadata": {},
          "execution_count": 85
        }
      ]
    },
    {
      "cell_type": "code",
      "source": [
        "scores = ['accuracy', 'precision', 'recall', 'f1']\n",
        "scores_dict = [acc_score, prec_score, rec_score, f1]\n",
        "\n",
        "for x, score_dict in zip(scores, scores_dict):\n",
        "  score_lr = cross_val_score(grid_search.best_estimator_, X_test, y_test,cv=5, scoring=x)\n",
        "  print('Scoring metric:', x)\n",
        "  print(score_lr)\n",
        "  print(\"Avg :\",np.average(score_lr))\n",
        "  print('\\n')\n",
        "  score_dict['Random Forest'] = np.average(score_lr)"
      ],
      "metadata": {
        "colab": {
          "base_uri": "https://localhost:8080/"
        },
        "id": "ym5UK5qA1ikc",
        "outputId": "579c2941-71b2-44f4-8c28-715b36226cf0"
      },
      "execution_count": 86,
      "outputs": [
        {
          "output_type": "stream",
          "name": "stdout",
          "text": [
            "Scoring metric: accuracy\n",
            "[0.86792453 0.69811321 0.78846154 0.88461538 0.86538462]\n",
            "Avg : 0.8208998548621189\n",
            "\n",
            "\n",
            "Scoring metric: precision\n",
            "[0.93333333 0.61111111 0.75       0.88888889 0.9375    ]\n",
            "Avg : 0.8241666666666667\n",
            "\n",
            "\n",
            "Scoring metric: recall\n",
            "[0.71428571 0.61904762 0.6        0.8        0.7       ]\n",
            "Avg : 0.6866666666666668\n",
            "\n",
            "\n",
            "Scoring metric: f1\n",
            "[0.81081081 0.6        0.61111111 0.84210526 0.83333333]\n",
            "Avg : 0.7394721036826299\n",
            "\n",
            "\n"
          ]
        }
      ]
    },
    {
      "cell_type": "code",
      "source": [
        "acc_score_scaled['Random Forest']=0.8015965166908563\n",
        "prec_score_scaled['Random Forest']=0.8231154810102179\n",
        "rec_score_scaled['Random Forest']=0.6452380952380953\n",
        "f1_scaled['Random Forest']= 0.7242469295410472\n"
      ],
      "metadata": {
        "id": "PfVou3ypScs3"
      },
      "execution_count": 87,
      "outputs": []
    },
    {
      "cell_type": "code",
      "source": [
        "show_scores()"
      ],
      "metadata": {
        "colab": {
          "base_uri": "https://localhost:8080/"
        },
        "id": "gBJGpezjSlLJ",
        "outputId": "16d690ba-05a4-41a2-b38f-db1d8b03e8f1"
      },
      "execution_count": 88,
      "outputs": [
        {
          "output_type": "stream",
          "name": "stdout",
          "text": [
            "accuracy score: {'Logistic Regression': 0.8132801161103048, 'Naive Bayes': 0.7369375907111756, 'KNeighbors Classifier': 0.7099419448476052, 'SVC': 0.6487663280116109, 'Decision Tree': 0.8131349782293178, 'Random Forest': 0.8208998548621189},\n",
            "precision score: {'Logistic Regression': 0.773249791144528, 'Naive Bayes': 0.6285586297760211, 'KNeighbors Classifier': 0.6438093068595154, 'SVC': 0.677485380116959, 'Decision Tree': 0.9395604395604396, 'Random Forest': 0.8241666666666667},\n",
            "recall score: {'Logistic Regression': 0.7366666666666666, 'Naive Bayes': 0.7852380952380952, 'KNeighbors Classifier': 0.6166666666666667, 'SVC': 0.2919047619047619, 'Decision Tree': 0.5590476190476191, 'Random Forest': 0.6866666666666668},\n",
            "f1 score: {'Logistic Regression': 0.7537210756722953, 'Naive Bayes': 0.6962284250662165, 'KNeighbors Classifier': 0.6202825093540254, 'SVC': 0.38403846153846155, 'Decision Tree': 0.6976673427991886, 'Random Forest': 0.7394721036826299}\n"
          ]
        }
      ]
    },
    {
      "cell_type": "code",
      "source": [
        "show_scores_scaled()"
      ],
      "metadata": {
        "colab": {
          "base_uri": "https://localhost:8080/"
        },
        "id": "XgaBe2ZUSyLo",
        "outputId": "b70828e5-754a-4a76-f0d2-e0398b54e2b2"
      },
      "execution_count": 89,
      "outputs": [
        {
          "output_type": "stream",
          "name": "stdout",
          "text": [
            " SCALED SCORES:\n",
            "accuracy score: {'Logistic Regression': 0.7709724238026124, 'Naive Bayes': 0.7595065312046444, 'KNeighbors Classifier': 0.7365021770682147, 'SVC': 0.7632801161103048, 'Decision Tree': 0.820754716981132, 'Random Forest': 0.8015965166908563},\n",
            "precision score: {'Logistic Regression': 0.7601298701298702, 'Naive Bayes': 0.7143697478991596, 'KNeighbors Classifier': 0.6766406400616927, 'SVC': 0.7157539682539682, 'Decision Tree': 0.7937851037851038, 'Random Forest': 0.8231154810102179},\n",
            "recall score: {'Logistic Regression': 0.5889473684210527, 'Naive Bayes': 0.608421052631579, 'KNeighbors Classifier': 0.5773684210526315, 'SVC': 0.6194736842105263, 'Decision Tree': 0.720952380952381, 'Random Forest': 0.6452380952380953},\n",
            "f1 score: {'Logistic Regression': 0.6523072909873484, 'Naive Bayes': 0.6493331532965679, 'KNeighbors Classifier': 0.6182429335370513, 'SVC': 0.6529214929214928, 'Decision Tree': 0.7654229815620578, 'Random Forest': 0.7242469295410472}\n"
          ]
        }
      ]
    },
    {
      "cell_type": "markdown",
      "source": [
        "## Illustration"
      ],
      "metadata": {
        "id": "vsQ1huFaXfBi"
      }
    },
    {
      "cell_type": "markdown",
      "source": [
        "### Without Scaling:"
      ],
      "metadata": {
        "id": "fykjhg5bXlfC"
      }
    },
    {
      "cell_type": "code",
      "source": [
        "# plotting accuracy scores\n",
        "\n",
        "plt.figure(figsize=(10,6))\n",
        "plt.rcParams[\"font.family\"] = \"serif\"\n",
        "\n",
        "cols = ['grey' if (x < max(acc_score.values())) else 'orange' for x in acc_score.values()]\n",
        "ax = sns.barplot(acc_score, x=acc_score.keys(), y=acc_score.values(), palette=cols)\n",
        "ax.set_xticklabels(acc_score.keys(),rotation=30)\n",
        "plt.ylim(0.5, 1.00)\n",
        "for p in ax.patches:\n",
        "    ax.annotate(format(p.get_height(), '.3f'), (p.get_x() + p.get_width() / 2., p.get_height()),\n",
        "       ha = 'center', va = 'center', xytext = (0, 10), textcoords = 'offset points')\n",
        "\n",
        "ax.set_title('Accuracy Scores (without scaling)', fontdict={'fontsize': 14, 'fontweight': 'semibold'}, pad=15)\n"
      ],
      "metadata": {
        "colab": {
          "base_uri": "https://localhost:8080/",
          "height": 650
        },
        "id": "KrD4BbLYS1Hu",
        "outputId": "24b5fe51-a235-4444-a201-ee475718c086"
      },
      "execution_count": 90,
      "outputs": [
        {
          "output_type": "execute_result",
          "data": {
            "text/plain": [
              "Text(0.5, 1.0, 'Accuracy Scores (without scaling)')"
            ]
          },
          "metadata": {},
          "execution_count": 90
        },
        {
          "output_type": "display_data",
          "data": {
            "text/plain": [
              "<Figure size 1000x600 with 1 Axes>"
            ],
            "image/png": "[encoded data removed]"
          },
          "metadata": {}
        }
      ]
    },
    {
      "cell_type": "code",
      "source": [
        "# plotting precision scores\n",
        "plt.figure(figsize=(10,6))\n",
        "plt.rcParams[\"font.family\"] = \"serif\"\n",
        "cols = ['grey' if (x < max(prec_score.values())) else 'orange' for x in prec_score.values()]\n",
        "ax = sns.barplot(prec_score, x=prec_score.keys(), y=prec_score.values(), palette=cols)\n",
        "ax.set_xticklabels(prec_score.keys(),rotation=30)\n",
        "plt.ylim(0.5, 1.00)\n",
        "for p in ax.patches:\n",
        "    ax.annotate(format(p.get_height(), '.3f'), (p.get_x() + p.get_width() / 2., p.get_height()),\n",
        "       ha = 'center', va = 'center', xytext = (0, 10), textcoords = 'offset points')\n",
        "ax.set_title('Precision Scores (without scaling)', fontdict={'fontsize': 14, 'fontweight': 'semibold'}, pad=15)"
      ],
      "metadata": {
        "colab": {
          "base_uri": "https://localhost:8080/",
          "height": 650
        },
        "id": "jYrrvBOcXwKJ",
        "outputId": "398d1abb-b2ca-4f6c-9deb-94d8e5aed0e4"
      },
      "execution_count": 91,
      "outputs": [
        {
          "output_type": "execute_result",
          "data": {
            "text/plain": [
              "Text(0.5, 1.0, 'Precision Scores (without scaling)')"
            ]
          },
          "metadata": {},
          "execution_count": 91
        },
        {
          "output_type": "display_data",
          "data": {
            "text/plain": [
              "<Figure size 1000x600 with 1 Axes>"
            ],
            "image/png": "[encoded data removed]"
          },
          "metadata": {}
        }
      ]
    },
    {
      "cell_type": "code",
      "source": [
        "# plotting recall scores\n",
        "plt.figure(figsize=(10,6))\n",
        "plt.rcParams[\"font.family\"] = \"serif\"\n",
        "cols = ['grey' if (x < max(rec_score.values())) else 'orange' for x in rec_score.values()]\n",
        "ax = sns.barplot(rec_score, x=rec_score.keys(), y=rec_score.values(), palette=cols)\n",
        "ax.set_xticklabels(rec_score.keys(),rotation=30)\n",
        "plt.ylim(0.2, 0.9)\n",
        "for p in ax.patches:\n",
        "    ax.annotate(format(p.get_height(), '.3f'), (p.get_x() + p.get_width() / 2., p.get_height()),\n",
        "       ha = 'center', va = 'center', xytext = (0, 10), textcoords = 'offset points')\n",
        "ax.set_title('Recall Scores (without scaling)', fontdict={'fontsize': 14, 'fontweight': 'semibold'}, pad=15)"
      ],
      "metadata": {
        "colab": {
          "base_uri": "https://localhost:8080/",
          "height": 650
        },
        "id": "ytAeCOfLZy0P",
        "outputId": "bacb5afd-6c5a-482e-9084-5c22e422bf32"
      },
      "execution_count": 92,
      "outputs": [
        {
          "output_type": "execute_result",
          "data": {
            "text/plain": [
              "Text(0.5, 1.0, 'Recall Scores (without scaling)')"
            ]
          },
          "metadata": {},
          "execution_count": 92
        },
        {
          "output_type": "display_data",
          "data": {
            "text/plain": [
              "<Figure size 1000x600 with 1 Axes>"
            ],
            "image/png": "[encoded data removed]"
          },
          "metadata": {}
        }
      ]
    },
    {
      "cell_type": "code",
      "source": [
        "# plotting f1 scores\n",
        "plt.figure(figsize=(10,6))\n",
        "plt.rcParams[\"font.family\"] = \"serif\"\n",
        "cols = ['grey' if (x < max(f1.values())) else 'orange' for x in f1.values()]\n",
        "ax = sns.barplot(f1, x=f1.keys(), y=f1.values(), palette=cols)\n",
        "ax.set_xticklabels(f1.keys(),rotation=30)\n",
        "plt.ylim(0.2, 0.9)\n",
        "for p in ax.patches:\n",
        "    ax.annotate(format(p.get_height(), '.3f'), (p.get_x() + p.get_width() / 2., p.get_height()),\n",
        "       ha = 'center', va = 'center', xytext = (0, 10), textcoords = 'offset points')\n",
        "ax.set_title('F1 Scores (without scaling)', fontdict={'fontsize': 14, 'fontweight': 'semibold'}, pad=15)"
      ],
      "metadata": {
        "colab": {
          "base_uri": "https://localhost:8080/",
          "height": 650
        },
        "id": "yQqmbxMWaI8O",
        "outputId": "e29cd06e-2ee6-4984-dc1e-ae4fb41251e8"
      },
      "execution_count": 93,
      "outputs": [
        {
          "output_type": "execute_result",
          "data": {
            "text/plain": [
              "Text(0.5, 1.0, 'F1 Scores (without scaling)')"
            ]
          },
          "metadata": {},
          "execution_count": 93
        },
        {
          "output_type": "display_data",
          "data": {
            "text/plain": [
              "<Figure size 1000x600 with 1 Axes>"
            ],
            "image/png": "[encoded data removed]"
          },
          "metadata": {}
        }
      ]
    },
    {
      "cell_type": "markdown",
      "source": [
        "### With Scaling"
      ],
      "metadata": {
        "id": "5Tk9t7DWasAS"
      }
    },
    {
      "cell_type": "code",
      "source": [
        "# plotting accuracy scores\n",
        "plt.figure(figsize=(10,6))\n",
        "plt.rcParams[\"font.family\"] = \"serif\"\n",
        "cols = ['grey' if (x < max(acc_score_scaled.values())) else '#FF6EC7' for x in acc_score_scaled.values()]\n",
        "ax = sns.barplot(acc_score_scaled, x=acc_score_scaled.keys(), y=acc_score_scaled.values(), palette=cols)\n",
        "ax.set_xticklabels(acc_score_scaled.keys(),rotation=30)\n",
        "plt.ylim(0.2, 0.9)\n",
        "for p in ax.patches:\n",
        "    ax.annotate(format(p.get_height(), '.3f'), (p.get_x() + p.get_width() / 2., p.get_height()),\n",
        "       ha = 'center', va = 'center', xytext = (0, 10), textcoords = 'offset points')\n",
        "ax.set_title('Accuracy Scores (with scaling)', fontdict={'fontsize': 14, 'fontweight': 'semibold'}, pad=15)"
      ],
      "metadata": {
        "colab": {
          "base_uri": "https://localhost:8080/",
          "height": 650
        },
        "id": "OMdfvj6HanfH",
        "outputId": "ea049111-8cea-4638-e1e9-d2db104c5588"
      },
      "execution_count": 94,
      "outputs": [
        {
          "output_type": "execute_result",
          "data": {
            "text/plain": [
              "Text(0.5, 1.0, 'Accuracy Scores (with scaling)')"
            ]
          },
          "metadata": {},
          "execution_count": 94
        },
        {
          "output_type": "display_data",
          "data": {
            "text/plain": [
              "<Figure size 1000x600 with 1 Axes>"
            ],
            "image/png": "[encoded data removed]"
          },
          "metadata": {}
        }
      ]
    },
    {
      "cell_type": "code",
      "source": [
        "# plotting precision scores\n",
        "plt.figure(figsize=(10,6))\n",
        "plt.rcParams[\"font.family\"] = \"serif\"\n",
        "cols = ['grey' if (x < max(prec_score_scaled.values())) else '#FF6EC7' for x in prec_score_scaled.values()]\n",
        "ax = sns.barplot(prec_score_scaled, x=prec_score_scaled.keys(), y=prec_score_scaled.values(), palette=cols)\n",
        "ax.set_xticklabels(prec_score_scaled.keys(),rotation=30)\n",
        "plt.ylim(0.2, 0.9)\n",
        "for p in ax.patches:\n",
        "    ax.annotate(format(p.get_height(), '.3f'), (p.get_x() + p.get_width() / 2., p.get_height()),\n",
        "       ha = 'center', va = 'center', xytext = (0, 10), textcoords = 'offset points')\n",
        "ax.set_title('Precision Scores (with scaling)', fontdict={'fontsize': 14, 'fontweight': 'semibold'}, pad=15)"
      ],
      "metadata": {
        "colab": {
          "base_uri": "https://localhost:8080/",
          "height": 650
        },
        "id": "Qp56Tjt_a6Qa",
        "outputId": "a0be2673-fc54-4917-bc4d-9fc66ede81d0"
      },
      "execution_count": 95,
      "outputs": [
        {
          "output_type": "execute_result",
          "data": {
            "text/plain": [
              "Text(0.5, 1.0, 'Precision Scores (with scaling)')"
            ]
          },
          "metadata": {},
          "execution_count": 95
        },
        {
          "output_type": "display_data",
          "data": {
            "text/plain": [
              "<Figure size 1000x600 with 1 Axes>"
            ],
            "image/png": "[encoded data removed]"
          },
          "metadata": {}
        }
      ]
    },
    {
      "cell_type": "code",
      "source": [
        "# plotting recall scores\n",
        "plt.figure(figsize=(10,6))\n",
        "plt.rcParams[\"font.family\"] = \"serif\"\n",
        "cols = ['grey' if (x < max(rec_score_scaled.values())) else '#FF6EC7' for x in rec_score_scaled.values()]\n",
        "ax = sns.barplot(rec_score_scaled, x=rec_score_scaled.keys(), y=rec_score_scaled.values(), palette=cols)\n",
        "ax.set_xticklabels(rec_score_scaled.keys(),rotation=30)\n",
        "plt.ylim(0.2, 0.9)\n",
        "for p in ax.patches:\n",
        "    ax.annotate(format(p.get_height(), '.3f'), (p.get_x() + p.get_width() / 2., p.get_height()),\n",
        "       ha = 'center', va = 'center', xytext = (0, 10), textcoords = 'offset points')\n",
        "ax.set_title('Recall Scores (with scaling)', fontdict={'fontsize': 14, 'fontweight': 'semibold'}, pad=15)"
      ],
      "metadata": {
        "colab": {
          "base_uri": "https://localhost:8080/",
          "height": 650
        },
        "id": "8OEns_tLbhOD",
        "outputId": "6eeb13e1-6e11-43ae-b831-61d77a6e5345"
      },
      "execution_count": 96,
      "outputs": [
        {
          "output_type": "execute_result",
          "data": {
            "text/plain": [
              "Text(0.5, 1.0, 'Recall Scores (with scaling)')"
            ]
          },
          "metadata": {},
          "execution_count": 96
        },
        {
          "output_type": "display_data",
          "data": {
            "text/plain": [
              "<Figure size 1000x600 with 1 Axes>"
            ],
            "image/png": "[encoded data removed]"
          },
          "metadata": {}
        }
      ]
    },
    {
      "cell_type": "code",
      "source": [
        "# plotting f1 scores\n",
        "plt.figure(figsize=(10,6))\n",
        "plt.rcParams[\"font.family\"] = \"serif\"\n",
        "cols = ['grey' if (x < max(f1_scaled.values())) else '#FF6EC7' for x in f1_scaled.values()]\n",
        "ax = sns.barplot(f1_scaled, x=f1_scaled.keys(), y=f1_scaled.values(), palette=cols)\n",
        "ax.set_xticklabels(f1_scaled.keys(),rotation=30)\n",
        "plt.ylim(0.2, 0.9)\n",
        "for p in ax.patches:\n",
        "    ax.annotate(format(p.get_height(), '.3f'), (p.get_x() + p.get_width() / 2., p.get_height()),\n",
        "       ha = 'center', va = 'center', xytext = (0, 10), textcoords = 'offset points')\n",
        "ax.set_title('F1 Scores (with scaling)', fontdict={'fontsize': 14, 'fontweight': 'semibold'}, pad=15)"
      ],
      "metadata": {
        "colab": {
          "base_uri": "https://localhost:8080/",
          "height": 650
        },
        "id": "gaM7yQuFbojt",
        "outputId": "7bd54d94-6275-4817-8fbe-3ee8c547faf0"
      },
      "execution_count": 97,
      "outputs": [
        {
          "output_type": "execute_result",
          "data": {
            "text/plain": [
              "Text(0.5, 1.0, 'F1 Scores (with scaling)')"
            ]
          },
          "metadata": {},
          "execution_count": 97
        },
        {
          "output_type": "display_data",
          "data": {
            "text/plain": [
              "<Figure size 1000x600 with 1 Axes>"
            ],
            "image/png": "[encoded data removed]"
          },
          "metadata": {}
        }
      ]
    },
    {
      "cell_type": "markdown",
      "source": [
        "### Best ever scores"
      ],
      "metadata": {
        "id": "U4QPanjobxMh"
      }
    },
    {
      "cell_type": "code",
      "source": [
        "show_scores()"
      ],
      "metadata": {
        "colab": {
          "base_uri": "https://localhost:8080/"
        },
        "id": "GJJGL9nVbuFq",
        "outputId": "73701e6d-2b93-481c-db7e-ccaf57eee8a6"
      },
      "execution_count": null,
      "outputs": [
        {
          "output_type": "stream",
          "name": "stdout",
          "text": [
            "accuracy score: {'Logistic Regression': 0.782510885341074, 'Naive Bayes': 0.7634252539912918, 'KNeighbors Classifier': 0.6529027576197388, 'SVC': 0.6640783744557328, 'Decision Tree': 0.820754716981132, 'Random Forest': 0.8015965166908563},\n",
            "precision score: {'Logistic Regression': 0.7429269814853339, 'Naive Bayes': 0.7040909090909091, 'KNeighbors Classifier': 0.618055278055278, 'SVC': 0.7112121212121212, 'Decision Tree': 0.7937851037851038, 'Random Forest': 0.8231154810102179},\n",
            "recall score: {'Logistic Regression': 0.7038095238095237, 'Naive Bayes': 0.7128571428571429, 'KNeighbors Classifier': 0.39380952380952383, 'SVC': 0.27761904761904754, 'Decision Tree': 0.720952380952381, 'Random Forest': 0.6452380952380953},\n",
            "f1 score: {'Logistic Regression': 0.7132467532467532, 'Naive Bayes': 0.7039789720107361, 'KNeighbors Classifier': 0.47411764705882353, 'SVC': 0.38939665471923535, 'Decision Tree': 0.7654229815620578, 'Random Forest': 0.7242469295410472}\n"
          ]
        }
      ]
    },
    {
      "cell_type": "code",
      "source": [
        "show_scores_scaled()"
      ],
      "metadata": {
        "colab": {
          "base_uri": "https://localhost:8080/"
        },
        "id": "rGWPJEoOb1MY",
        "outputId": "e850cfc5-2d50-4ea7-d587-91bf39f94ada"
      },
      "execution_count": null,
      "outputs": [
        {
          "output_type": "stream",
          "name": "stdout",
          "text": [
            " SCALED SCORES:\n",
            "accuracy score: {'Logistic Regression': 0.7634978229317853, 'Naive Bayes': 0.7597242380261248, 'KNeighbors Classifier': 0.759579100145138, 'Decision Tree': 0.820754716981132, 'Random Forest': 0.8015965166908563},\n",
            "precision score: {'Logistic Regression': 0.7321860206070733, 'Naive Bayes': 0.7613997113997113, 'KNeighbors Classifier': 0.7595238095238095, 'Decision Tree': 0.7937851037851038, 'Random Forest': 0.8231154810102179},\n",
            "recall score: {'Logistic Regression': 0.6547619047619048, 'Naive Bayes': 0.5666666666666667, 'KNeighbors Classifier': 0.5852380952380953, 'Decision Tree': 0.720952380952381, 'Random Forest': 0.6452380952380953},\n",
            "f1 score: {'Logistic Regression': 0.6815090500552591, 'Naive Bayes': 0.6403741599335497, 'KNeighbors Classifier': 0.6499564459930314, 'Decision Tree': 0.7654229815620578, 'Random Forest': 0.7242469295410472}\n"
          ]
        }
      ]
    },
    {
      "cell_type": "code",
      "source": [
        "acc_best = {\n",
        "    'Logistic Regression': 0.782510885341074,\n",
        "    'Naive Bayes': 0.7634252539912918,\n",
        "    'KNeighbors Classifier': 0.759579100145138,\n",
        "\n",
        "}"
      ],
      "metadata": {
        "id": "jFTYasHUb2Y8"
      },
      "execution_count": null,
      "outputs": []
    }
  ]
}